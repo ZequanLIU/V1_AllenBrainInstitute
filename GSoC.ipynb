{
  "nbformat": 4,
  "nbformat_minor": 0,
  "metadata": {
    "colab": {
      "provenance": [],
      "authorship_tag": "ABX9TyMYB1UjTxwBmpCz7UWiz6dU",
      "include_colab_link": true
    },
    "kernelspec": {
      "name": "python3",
      "display_name": "Python 3"
    },
    "language_info": {
      "name": "python"
    }
  },
  "cells": [
    {
      "cell_type": "markdown",
      "metadata": {
        "id": "view-in-github",
        "colab_type": "text"
      },
      "source": [
        "<a href=\"https://colab.research.google.com/github/ZequanLIU/V1_AllenBrainInstitute/blob/main/GSoC.ipynb\" target=\"_parent\"><img src=\"https://colab.research.google.com/assets/colab-badge.svg\" alt=\"Open In Colab\"/></a>"
      ]
    },
    {
      "cell_type": "markdown",
      "source": [
        "# Install ALLEN SDK\n",
        "# Install NetPyNE"
      ],
      "metadata": {
        "id": "8h4JhyxL-hsJ"
      }
    },
    {
      "cell_type": "code",
      "source": [
        "!pip install allensdk"
      ],
      "metadata": {
        "colab": {
          "base_uri": "https://localhost:8080/"
        },
        "collapsed": true,
        "id": "nL7agAnpEg53",
        "outputId": "e336e855-f476-41ac-c44b-1f792c592add"
      },
      "execution_count": 47,
      "outputs": [
        {
          "output_type": "stream",
          "name": "stdout",
          "text": [
            "Requirement already satisfied: allensdk in /usr/local/lib/python3.10/dist-packages (2.16.2)\n",
            "Requirement already satisfied: psycopg2-binary in /usr/local/lib/python3.10/dist-packages (from allensdk) (2.9.9)\n",
            "Requirement already satisfied: hdmf!=3.5.*,!=3.6.*,!=3.7.*,!=3.8.* in /usr/local/lib/python3.10/dist-packages (from allensdk) (3.14.3)\n",
            "Requirement already satisfied: h5py in /usr/local/lib/python3.10/dist-packages (from allensdk) (3.11.0)\n",
            "Requirement already satisfied: matplotlib in /usr/local/lib/python3.10/dist-packages (from allensdk) (3.7.1)\n",
            "Requirement already satisfied: numpy<1.24 in /usr/local/lib/python3.10/dist-packages (from allensdk) (1.23.5)\n",
            "Requirement already satisfied: pandas==1.5.3 in /usr/local/lib/python3.10/dist-packages (from allensdk) (1.5.3)\n",
            "Requirement already satisfied: jinja2 in /usr/local/lib/python3.10/dist-packages (from allensdk) (3.1.4)\n",
            "Requirement already satisfied: scipy<1.11 in /usr/local/lib/python3.10/dist-packages (from allensdk) (1.10.1)\n",
            "Requirement already satisfied: six in /usr/local/lib/python3.10/dist-packages (from allensdk) (1.16.0)\n",
            "Requirement already satisfied: pynrrd in /usr/local/lib/python3.10/dist-packages (from allensdk) (1.0.0)\n",
            "Requirement already satisfied: future in /usr/local/lib/python3.10/dist-packages (from allensdk) (1.0.0)\n",
            "Requirement already satisfied: requests in /usr/local/lib/python3.10/dist-packages (from allensdk) (2.32.3)\n",
            "Requirement already satisfied: requests-toolbelt in /usr/local/lib/python3.10/dist-packages (from allensdk) (1.0.0)\n",
            "Requirement already satisfied: simplejson in /usr/local/lib/python3.10/dist-packages (from allensdk) (3.19.3)\n",
            "Requirement already satisfied: scikit-image in /usr/local/lib/python3.10/dist-packages (from allensdk) (0.23.2)\n",
            "Requirement already satisfied: scikit-build in /usr/local/lib/python3.10/dist-packages (from allensdk) (0.18.0)\n",
            "Requirement already satisfied: statsmodels in /usr/local/lib/python3.10/dist-packages (from allensdk) (0.14.2)\n",
            "Requirement already satisfied: simpleitk in /usr/local/lib/python3.10/dist-packages (from allensdk) (2.4.0)\n",
            "Requirement already satisfied: argschema in /usr/local/lib/python3.10/dist-packages (from allensdk) (3.0.4)\n",
            "Requirement already satisfied: glymur in /usr/local/lib/python3.10/dist-packages (from allensdk) (0.13.6)\n",
            "Requirement already satisfied: xarray<2023.2.0 in /usr/local/lib/python3.10/dist-packages (from allensdk) (2023.1.0)\n",
            "Requirement already satisfied: pynwb in /usr/local/lib/python3.10/dist-packages (from allensdk) (2.8.1)\n",
            "Requirement already satisfied: tables in /usr/local/lib/python3.10/dist-packages (from allensdk) (3.8.0)\n",
            "Requirement already satisfied: seaborn in /usr/local/lib/python3.10/dist-packages (from allensdk) (0.13.1)\n",
            "Requirement already satisfied: aiohttp in /usr/local/lib/python3.10/dist-packages (from allensdk) (3.10.5)\n",
            "Requirement already satisfied: nest-asyncio in /usr/local/lib/python3.10/dist-packages (from allensdk) (1.6.0)\n",
            "Requirement already satisfied: tqdm in /usr/local/lib/python3.10/dist-packages (from allensdk) (4.66.5)\n",
            "Requirement already satisfied: ndx-events in /usr/local/lib/python3.10/dist-packages (from allensdk) (0.2.0)\n",
            "Requirement already satisfied: boto3 in /usr/local/lib/python3.10/dist-packages (from allensdk) (1.35.5)\n",
            "Requirement already satisfied: semver in /usr/local/lib/python3.10/dist-packages (from allensdk) (3.0.2)\n",
            "Requirement already satisfied: cachetools in /usr/local/lib/python3.10/dist-packages (from allensdk) (5.5.0)\n",
            "Requirement already satisfied: sqlalchemy in /usr/local/lib/python3.10/dist-packages (from allensdk) (2.0.32)\n",
            "Requirement already satisfied: python-dateutil in /usr/local/lib/python3.10/dist-packages (from allensdk) (2.8.2)\n",
            "Requirement already satisfied: pytz>=2020.1 in /usr/local/lib/python3.10/dist-packages (from pandas==1.5.3->allensdk) (2024.1)\n",
            "Requirement already satisfied: jsonschema>=2.6.0 in /usr/local/lib/python3.10/dist-packages (from hdmf!=3.5.*,!=3.6.*,!=3.7.*,!=3.8.*->allensdk) (4.23.0)\n",
            "Requirement already satisfied: ruamel-yaml>=0.16 in /usr/local/lib/python3.10/dist-packages (from hdmf!=3.5.*,!=3.6.*,!=3.7.*,!=3.8.*->allensdk) (0.18.6)\n",
            "Requirement already satisfied: packaging>=21.3 in /usr/local/lib/python3.10/dist-packages (from xarray<2023.2.0->allensdk) (24.1)\n",
            "Requirement already satisfied: aiohappyeyeballs>=2.3.0 in /usr/local/lib/python3.10/dist-packages (from aiohttp->allensdk) (2.4.0)\n",
            "Requirement already satisfied: aiosignal>=1.1.2 in /usr/local/lib/python3.10/dist-packages (from aiohttp->allensdk) (1.3.1)\n",
            "Requirement already satisfied: attrs>=17.3.0 in /usr/local/lib/python3.10/dist-packages (from aiohttp->allensdk) (24.2.0)\n",
            "Requirement already satisfied: frozenlist>=1.1.1 in /usr/local/lib/python3.10/dist-packages (from aiohttp->allensdk) (1.4.1)\n",
            "Requirement already satisfied: multidict<7.0,>=4.5 in /usr/local/lib/python3.10/dist-packages (from aiohttp->allensdk) (6.0.5)\n",
            "Requirement already satisfied: yarl<2.0,>=1.0 in /usr/local/lib/python3.10/dist-packages (from aiohttp->allensdk) (1.9.4)\n",
            "Requirement already satisfied: async-timeout<5.0,>=4.0 in /usr/local/lib/python3.10/dist-packages (from aiohttp->allensdk) (4.0.3)\n",
            "Requirement already satisfied: marshmallow<4.0,>=3.0.0 in /usr/local/lib/python3.10/dist-packages (from argschema->allensdk) (3.22.0)\n",
            "Requirement already satisfied: pyyaml in /usr/local/lib/python3.10/dist-packages (from argschema->allensdk) (6.0.2)\n",
            "Requirement already satisfied: botocore<1.36.0,>=1.35.5 in /usr/local/lib/python3.10/dist-packages (from boto3->allensdk) (1.35.5)\n",
            "Requirement already satisfied: jmespath<2.0.0,>=0.7.1 in /usr/local/lib/python3.10/dist-packages (from boto3->allensdk) (1.0.1)\n",
            "Requirement already satisfied: s3transfer<0.11.0,>=0.10.0 in /usr/local/lib/python3.10/dist-packages (from boto3->allensdk) (0.10.2)\n",
            "Requirement already satisfied: lxml in /usr/local/lib/python3.10/dist-packages (from glymur->allensdk) (4.9.4)\n",
            "Requirement already satisfied: MarkupSafe>=2.0 in /usr/local/lib/python3.10/dist-packages (from jinja2->allensdk) (2.1.5)\n",
            "Requirement already satisfied: contourpy>=1.0.1 in /usr/local/lib/python3.10/dist-packages (from matplotlib->allensdk) (1.2.1)\n",
            "Requirement already satisfied: cycler>=0.10 in /usr/local/lib/python3.10/dist-packages (from matplotlib->allensdk) (0.12.1)\n",
            "Requirement already satisfied: fonttools>=4.22.0 in /usr/local/lib/python3.10/dist-packages (from matplotlib->allensdk) (4.53.1)\n",
            "Requirement already satisfied: kiwisolver>=1.0.1 in /usr/local/lib/python3.10/dist-packages (from matplotlib->allensdk) (1.4.5)\n",
            "Requirement already satisfied: pillow>=6.2.0 in /usr/local/lib/python3.10/dist-packages (from matplotlib->allensdk) (9.4.0)\n",
            "Requirement already satisfied: pyparsing>=2.3.1 in /usr/local/lib/python3.10/dist-packages (from matplotlib->allensdk) (3.1.2)\n",
            "Requirement already satisfied: nptyping in /usr/local/lib/python3.10/dist-packages (from pynrrd->allensdk) (2.5.0)\n",
            "Requirement already satisfied: typing-extensions in /usr/local/lib/python3.10/dist-packages (from pynrrd->allensdk) (4.12.2)\n",
            "Requirement already satisfied: charset-normalizer<4,>=2 in /usr/local/lib/python3.10/dist-packages (from requests->allensdk) (3.3.2)\n",
            "Requirement already satisfied: idna<4,>=2.5 in /usr/local/lib/python3.10/dist-packages (from requests->allensdk) (3.7)\n",
            "Requirement already satisfied: urllib3<3,>=1.21.1 in /usr/local/lib/python3.10/dist-packages (from requests->allensdk) (2.0.7)\n",
            "Requirement already satisfied: certifi>=2017.4.17 in /usr/local/lib/python3.10/dist-packages (from requests->allensdk) (2024.7.4)\n",
            "Requirement already satisfied: distro in /usr/lib/python3/dist-packages (from scikit-build->allensdk) (1.7.0)\n",
            "Requirement already satisfied: setuptools>=42.0.0 in /usr/local/lib/python3.10/dist-packages (from scikit-build->allensdk) (71.0.4)\n",
            "Requirement already satisfied: tomli in /usr/local/lib/python3.10/dist-packages (from scikit-build->allensdk) (2.0.1)\n",
            "Requirement already satisfied: wheel>=0.32.0 in /usr/local/lib/python3.10/dist-packages (from scikit-build->allensdk) (0.44.0)\n",
            "Requirement already satisfied: networkx>=2.8 in /usr/local/lib/python3.10/dist-packages (from scikit-image->allensdk) (3.3)\n",
            "Requirement already satisfied: imageio>=2.33 in /usr/local/lib/python3.10/dist-packages (from scikit-image->allensdk) (2.34.2)\n",
            "Requirement already satisfied: tifffile>=2022.8.12 in /usr/local/lib/python3.10/dist-packages (from scikit-image->allensdk) (2024.8.10)\n",
            "Requirement already satisfied: lazy-loader>=0.4 in /usr/local/lib/python3.10/dist-packages (from scikit-image->allensdk) (0.4)\n",
            "Requirement already satisfied: greenlet!=0.4.17 in /usr/local/lib/python3.10/dist-packages (from sqlalchemy->allensdk) (3.0.3)\n",
            "Requirement already satisfied: patsy>=0.5.6 in /usr/local/lib/python3.10/dist-packages (from statsmodels->allensdk) (0.5.6)\n",
            "Requirement already satisfied: cython>=0.29.21 in /usr/local/lib/python3.10/dist-packages (from tables->allensdk) (3.0.11)\n",
            "Requirement already satisfied: numexpr>=2.6.2 in /usr/local/lib/python3.10/dist-packages (from tables->allensdk) (2.10.1)\n",
            "Requirement already satisfied: blosc2~=2.0.0 in /usr/local/lib/python3.10/dist-packages (from tables->allensdk) (2.0.0)\n",
            "Requirement already satisfied: py-cpuinfo in /usr/local/lib/python3.10/dist-packages (from tables->allensdk) (9.0.0)\n",
            "Requirement already satisfied: msgpack in /usr/local/lib/python3.10/dist-packages (from blosc2~=2.0.0->tables->allensdk) (1.0.8)\n",
            "Requirement already satisfied: jsonschema-specifications>=2023.03.6 in /usr/local/lib/python3.10/dist-packages (from jsonschema>=2.6.0->hdmf!=3.5.*,!=3.6.*,!=3.7.*,!=3.8.*->allensdk) (2023.12.1)\n",
            "Requirement already satisfied: referencing>=0.28.4 in /usr/local/lib/python3.10/dist-packages (from jsonschema>=2.6.0->hdmf!=3.5.*,!=3.6.*,!=3.7.*,!=3.8.*->allensdk) (0.35.1)\n",
            "Requirement already satisfied: rpds-py>=0.7.1 in /usr/local/lib/python3.10/dist-packages (from jsonschema>=2.6.0->hdmf!=3.5.*,!=3.6.*,!=3.7.*,!=3.8.*->allensdk) (0.20.0)\n",
            "Requirement already satisfied: ruamel.yaml.clib>=0.2.7 in /usr/local/lib/python3.10/dist-packages (from ruamel-yaml>=0.16->hdmf!=3.5.*,!=3.6.*,!=3.7.*,!=3.8.*->allensdk) (0.2.8)\n"
          ]
        }
      ]
    },
    {
      "cell_type": "code",
      "source": [
        "!git clone https://github.com/AllenInstitute/aisynphys.git\n",
        "!pip install ./aisynphys"
      ],
      "metadata": {
        "colab": {
          "base_uri": "https://localhost:8080/"
        },
        "collapsed": true,
        "id": "FgYBywpCkE91",
        "outputId": "c91c5af6-31b3-4552-d6ca-8b5ca72260aa"
      },
      "execution_count": 48,
      "outputs": [
        {
          "output_type": "stream",
          "name": "stdout",
          "text": [
            "Cloning into 'aisynphys'...\n",
            "remote: Enumerating objects: 16135, done.\u001b[K\n",
            "remote: Counting objects: 100% (2890/2890), done.\u001b[K\n",
            "remote: Compressing objects: 100% (466/466), done.\u001b[K\n",
            "remote: Total 16135 (delta 2485), reused 2781 (delta 2423), pack-reused 13245 (from 1)\u001b[K\n",
            "Receiving objects: 100% (16135/16135), 58.39 MiB | 11.44 MiB/s, done.\n",
            "Resolving deltas: 100% (12109/12109), done.\n",
            "Processing ./aisynphys\n",
            "  Preparing metadata (setup.py) ... \u001b[?25l\u001b[?25hdone\n",
            "Building wheels for collected packages: aisynphys\n",
            "  Building wheel for aisynphys (setup.py) ... \u001b[?25l\u001b[?25hdone\n",
            "  Created wheel for aisynphys: filename=aisynphys-0.0.1-py3-none-any.whl size=351968 sha256=581a34c29b94185ba7ef6f51d51e934253c3d4e56d6716bb41166f20aecdc103\n",
            "  Stored in directory: /tmp/pip-ephem-wheel-cache-q8hoik1g/wheels/98/97/cf/cb8b4df055c56dd850323700d607d95bd0f89db3fa6369197a\n",
            "Successfully built aisynphys\n",
            "Installing collected packages: aisynphys\n",
            "  Attempting uninstall: aisynphys\n",
            "    Found existing installation: aisynphys 0.0.1\n",
            "    Uninstalling aisynphys-0.0.1:\n",
            "      Successfully uninstalled aisynphys-0.0.1\n",
            "Successfully installed aisynphys-0.0.1\n"
          ]
        }
      ]
    },
    {
      "cell_type": "code",
      "source": [
        "!git clone https://github.com/AllenInstitute/neuroanalysis.git\n",
        "!pip install ./neuroanalysis"
      ],
      "metadata": {
        "colab": {
          "base_uri": "https://localhost:8080/"
        },
        "collapsed": true,
        "id": "spe5oivFk5Zf",
        "outputId": "607e42a4-7187-4969-f176-91d812cd4395"
      },
      "execution_count": 49,
      "outputs": [
        {
          "output_type": "stream",
          "name": "stdout",
          "text": [
            "Cloning into 'neuroanalysis'...\n",
            "remote: Enumerating objects: 2821, done.\u001b[K\n",
            "remote: Counting objects: 100% (606/606), done.\u001b[K\n",
            "remote: Compressing objects: 100% (216/216), done.\u001b[K\n",
            "remote: Total 2821 (delta 410), reused 579 (delta 389), pack-reused 2215 (from 1)\u001b[K\n",
            "Receiving objects: 100% (2821/2821), 8.21 MiB | 18.68 MiB/s, done.\n",
            "Resolving deltas: 100% (1985/1985), done.\n",
            "Processing ./neuroanalysis\n",
            "  Installing build dependencies ... \u001b[?25l\u001b[?25hdone\n",
            "  Getting requirements to build wheel ... \u001b[?25l\u001b[?25hdone\n",
            "  Preparing metadata (pyproject.toml) ... \u001b[?25l\u001b[?25hdone\n",
            "Requirement already satisfied: lmfit in /usr/local/lib/python3.10/dist-packages (from neuroanalysis==0.0.2) (1.3.2)\n",
            "Requirement already satisfied: numpy in /usr/local/lib/python3.10/dist-packages (from neuroanalysis==0.0.2) (1.23.5)\n",
            "Requirement already satisfied: scipy in /usr/local/lib/python3.10/dist-packages (from neuroanalysis==0.0.2) (1.10.1)\n",
            "Requirement already satisfied: asteval>=1.0 in /usr/local/lib/python3.10/dist-packages (from lmfit->neuroanalysis==0.0.2) (1.0.2)\n",
            "Requirement already satisfied: uncertainties>=3.2.2 in /usr/local/lib/python3.10/dist-packages (from lmfit->neuroanalysis==0.0.2) (3.2.2)\n",
            "Requirement already satisfied: dill>=0.3.4 in /usr/local/lib/python3.10/dist-packages (from lmfit->neuroanalysis==0.0.2) (0.3.8)\n",
            "Building wheels for collected packages: neuroanalysis\n",
            "  Building wheel for neuroanalysis (pyproject.toml) ... \u001b[?25l\u001b[?25hdone\n",
            "  Created wheel for neuroanalysis: filename=neuroanalysis-0.0.2-py3-none-any.whl size=116900 sha256=47a7c928c31f1a37b416cb94bb35f8ecfa77ca80877f332170d81df150ace213\n",
            "  Stored in directory: /tmp/pip-ephem-wheel-cache-90399rfq/wheels/20/63/72/97c1d17b7f26d67f6358ca53db82970d981b29b9e968e13cc5\n",
            "Successfully built neuroanalysis\n",
            "Installing collected packages: neuroanalysis\n",
            "  Attempting uninstall: neuroanalysis\n",
            "    Found existing installation: neuroanalysis 0.0.2\n",
            "    Uninstalling neuroanalysis-0.0.2:\n",
            "      Successfully uninstalled neuroanalysis-0.0.2\n",
            "Successfully installed neuroanalysis-0.0.2\n"
          ]
        }
      ]
    },
    {
      "cell_type": "code",
      "source": [
        "!git clone https://github.com/suny-downstate-medical-center/netpyne"
      ],
      "metadata": {
        "colab": {
          "base_uri": "https://localhost:8080/"
        },
        "outputId": "389758b0-5d6c-45dc-fa22-e7cec4a863c5",
        "id": "251LvYD-7Wla",
        "collapsed": true
      },
      "execution_count": 50,
      "outputs": [
        {
          "output_type": "stream",
          "name": "stdout",
          "text": [
            "Cloning into 'netpyne'...\n",
            "remote: Enumerating objects: 29210, done.\u001b[K\n",
            "remote: Counting objects: 100% (3297/3297), done.\u001b[K\n",
            "remote: Compressing objects: 100% (920/920), done.\u001b[K\n",
            "remote: Total 29210 (delta 2673), reused 2720 (delta 2374), pack-reused 25913 (from 1)\u001b[K\n",
            "Receiving objects: 100% (29210/29210), 85.50 MiB | 11.36 MiB/s, done.\n",
            "Resolving deltas: 100% (21189/21189), done.\n",
            "Updating files: 100% (992/992), done.\n"
          ]
        }
      ]
    },
    {
      "cell_type": "code",
      "source": [
        "%cd netpyne/netpyne/tutorials/"
      ],
      "metadata": {
        "colab": {
          "base_uri": "https://localhost:8080/"
        },
        "outputId": "12bb75f6-c4f7-4906-8f11-e315e11f5eb9",
        "id": "BKQVFLNb7Wlb"
      },
      "execution_count": 51,
      "outputs": [
        {
          "output_type": "stream",
          "name": "stdout",
          "text": [
            "/content/sim_ch07/netpyne/netpyne/tutorials\n"
          ]
        }
      ]
    },
    {
      "cell_type": "code",
      "source": [
        "%ls"
      ],
      "metadata": {
        "colab": {
          "base_uri": "https://localhost:8080/"
        },
        "outputId": "07814f42-4fe2-49b2-a8b2-af6a87cfde91",
        "id": "8wE1q5dQ7Wlb"
      },
      "execution_count": 52,
      "outputs": [
        {
          "output_type": "stream",
          "name": "stdout",
          "text": [
            "\u001b[0m\u001b[01;34mcells\u001b[0m/                      tut02_position_based_conn.ipynb    tut09_batch_evolutionary.ipynb\n",
            "\u001b[01;34mdocs\u001b[0m/                       tut03_stimulation.ipynb            \u001b[01;34mtut_batch_evol\u001b[0m/\n",
            "install_tuts.py             tut04_importing_cell_models.ipynb  \u001b[01;34mtut_batch_grid\u001b[0m/\n",
            "install_tuts.sh             tut05_analysis_plotting.ipynb      \u001b[01;34mtut_saving_loading\u001b[0m/\n",
            "\u001b[01;34mmod\u001b[0m/                        tut06_oscillation.ipynb            \u001b[01;34mtut_voltage_and_rxd_movie\u001b[0m/\n",
            "README.md                   tut07_multiscale_network.ipynb\n",
            "tut01_simple_network.ipynb  tut08_batch_grid.ipynb\n"
          ]
        }
      ]
    },
    {
      "cell_type": "code",
      "source": [
        "!pip install neuron\n",
        "!pip install netpyne"
      ],
      "metadata": {
        "id": "gAgpEeLC98x9",
        "outputId": "4268ca13-0218-4dfd-8666-3c9324cca2a2",
        "colab": {
          "base_uri": "https://localhost:8080/"
        },
        "collapsed": true
      },
      "execution_count": 53,
      "outputs": [
        {
          "output_type": "stream",
          "name": "stdout",
          "text": [
            "Requirement already satisfied: neuron in /usr/local/lib/python3.10/dist-packages (8.2.6)\n",
            "Requirement already satisfied: numpy<2,>=1.9.3 in /usr/local/lib/python3.10/dist-packages (from neuron) (1.23.5)\n",
            "Requirement already satisfied: packaging in /usr/local/lib/python3.10/dist-packages (from neuron) (24.1)\n",
            "Requirement already satisfied: find-libpython in /usr/local/lib/python3.10/dist-packages (from neuron) (0.4.0)\n",
            "Requirement already satisfied: setuptools in /usr/local/lib/python3.10/dist-packages (from neuron) (71.0.4)\n",
            "Requirement already satisfied: netpyne in /usr/local/lib/python3.10/dist-packages (1.0.6)\n",
            "Requirement already satisfied: numpy in /usr/local/lib/python3.10/dist-packages (from netpyne) (1.23.5)\n",
            "Requirement already satisfied: scipy in /usr/local/lib/python3.10/dist-packages (from netpyne) (1.10.1)\n",
            "Requirement already satisfied: matplotlib in /usr/local/lib/python3.10/dist-packages (from netpyne) (3.7.1)\n",
            "Requirement already satisfied: matplotlib-scalebar in /usr/local/lib/python3.10/dist-packages (from netpyne) (0.8.1)\n",
            "Requirement already satisfied: future in /usr/local/lib/python3.10/dist-packages (from netpyne) (1.0.0)\n",
            "Requirement already satisfied: pandas in /usr/local/lib/python3.10/dist-packages (from netpyne) (1.5.3)\n",
            "Requirement already satisfied: bokeh in /usr/local/lib/python3.10/dist-packages (from netpyne) (3.4.3)\n",
            "Requirement already satisfied: schema in /usr/local/lib/python3.10/dist-packages (from netpyne) (0.7.7)\n",
            "Requirement already satisfied: lfpykit in /usr/local/lib/python3.10/dist-packages (from netpyne) (0.5.1)\n",
            "Requirement already satisfied: tqdm in /usr/local/lib/python3.10/dist-packages (from netpyne) (4.66.5)\n",
            "Requirement already satisfied: Jinja2>=2.9 in /usr/local/lib/python3.10/dist-packages (from bokeh->netpyne) (3.1.4)\n",
            "Requirement already satisfied: contourpy>=1.2 in /usr/local/lib/python3.10/dist-packages (from bokeh->netpyne) (1.2.1)\n",
            "Requirement already satisfied: packaging>=16.8 in /usr/local/lib/python3.10/dist-packages (from bokeh->netpyne) (24.1)\n",
            "Requirement already satisfied: pillow>=7.1.0 in /usr/local/lib/python3.10/dist-packages (from bokeh->netpyne) (9.4.0)\n",
            "Requirement already satisfied: PyYAML>=3.10 in /usr/local/lib/python3.10/dist-packages (from bokeh->netpyne) (6.0.2)\n",
            "Requirement already satisfied: tornado>=6.2 in /usr/local/lib/python3.10/dist-packages (from bokeh->netpyne) (6.3.3)\n",
            "Requirement already satisfied: xyzservices>=2021.09.1 in /usr/local/lib/python3.10/dist-packages (from bokeh->netpyne) (2024.6.0)\n",
            "Requirement already satisfied: python-dateutil>=2.8.1 in /usr/local/lib/python3.10/dist-packages (from pandas->netpyne) (2.8.2)\n",
            "Requirement already satisfied: pytz>=2020.1 in /usr/local/lib/python3.10/dist-packages (from pandas->netpyne) (2024.1)\n",
            "Requirement already satisfied: meautility in /usr/local/lib/python3.10/dist-packages (from lfpykit->netpyne) (1.5.1)\n",
            "Requirement already satisfied: cycler>=0.10 in /usr/local/lib/python3.10/dist-packages (from matplotlib->netpyne) (0.12.1)\n",
            "Requirement already satisfied: fonttools>=4.22.0 in /usr/local/lib/python3.10/dist-packages (from matplotlib->netpyne) (4.53.1)\n",
            "Requirement already satisfied: kiwisolver>=1.0.1 in /usr/local/lib/python3.10/dist-packages (from matplotlib->netpyne) (1.4.5)\n",
            "Requirement already satisfied: pyparsing>=2.3.1 in /usr/local/lib/python3.10/dist-packages (from matplotlib->netpyne) (3.1.2)\n",
            "Requirement already satisfied: MarkupSafe>=2.0 in /usr/local/lib/python3.10/dist-packages (from Jinja2>=2.9->bokeh->netpyne) (2.1.5)\n",
            "Requirement already satisfied: six>=1.5 in /usr/local/lib/python3.10/dist-packages (from python-dateutil>=2.8.1->pandas->netpyne) (1.16.0)\n"
          ]
        }
      ]
    },
    {
      "cell_type": "markdown",
      "source": [
        "# V1_AllenBrainInstitute"
      ],
      "metadata": {
        "id": "ihoL7h8-AwlP"
      }
    },
    {
      "cell_type": "code",
      "source": [
        "%ls"
      ],
      "metadata": {
        "colab": {
          "base_uri": "https://localhost:8080/"
        },
        "id": "Q8Vm3KQoA6Am",
        "outputId": "8c381e55-6dfc-4677-a8d1-9e02db6e05b5"
      },
      "execution_count": 54,
      "outputs": [
        {
          "output_type": "stream",
          "name": "stdout",
          "text": [
            "\u001b[0m\u001b[01;34mcells\u001b[0m/                      tut02_position_based_conn.ipynb    tut09_batch_evolutionary.ipynb\n",
            "\u001b[01;34mdocs\u001b[0m/                       tut03_stimulation.ipynb            \u001b[01;34mtut_batch_evol\u001b[0m/\n",
            "install_tuts.py             tut04_importing_cell_models.ipynb  \u001b[01;34mtut_batch_grid\u001b[0m/\n",
            "install_tuts.sh             tut05_analysis_plotting.ipynb      \u001b[01;34mtut_saving_loading\u001b[0m/\n",
            "\u001b[01;34mmod\u001b[0m/                        tut06_oscillation.ipynb            \u001b[01;34mtut_voltage_and_rxd_movie\u001b[0m/\n",
            "README.md                   tut07_multiscale_network.ipynb\n",
            "tut01_simple_network.ipynb  tut08_batch_grid.ipynb\n"
          ]
        }
      ]
    },
    {
      "cell_type": "code",
      "source": [
        "%cd ../.."
      ],
      "metadata": {
        "colab": {
          "base_uri": "https://localhost:8080/"
        },
        "id": "tS01s5-2BE4x",
        "outputId": "de8e1bfd-fd5e-4b51-c924-1b15e2fb6875"
      },
      "execution_count": 55,
      "outputs": [
        {
          "output_type": "stream",
          "name": "stdout",
          "text": [
            "/content/sim_ch07/netpyne\n"
          ]
        }
      ]
    },
    {
      "cell_type": "code",
      "source": [
        "%cd .."
      ],
      "metadata": {
        "colab": {
          "base_uri": "https://localhost:8080/"
        },
        "id": "fqOSgpKmBItS",
        "outputId": "1962a0ad-5b9b-444e-9dce-605c7d1720cc"
      },
      "execution_count": 56,
      "outputs": [
        {
          "output_type": "stream",
          "name": "stdout",
          "text": [
            "/content/sim_ch07\n"
          ]
        }
      ]
    },
    {
      "cell_type": "code",
      "source": [
        "%ls"
      ],
      "metadata": {
        "colab": {
          "base_uri": "https://localhost:8080/"
        },
        "id": "H49O0gGKBPmd",
        "outputId": "da319e58-3320-476a-c0d4-208fbbc86ab2"
      },
      "execution_count": 57,
      "outputs": [
        {
          "output_type": "stream",
          "name": "stdout",
          "text": [
            "\u001b[0m\u001b[01;34maisynphys\u001b[0m/           config.json  \u001b[01;34mneuroanalysis\u001b[0m/  run_filternet.py\n",
            "circuit_config.json  \u001b[01;34mnetpyne\u001b[0m/     node_sets.json  \u001b[01;34msim_ch07\u001b[0m/\n",
            "\u001b[01;34mcomponents\u001b[0m/          \u001b[01;34mnetwork\u001b[0m/     \u001b[01;34moutput\u001b[0m/         simulation_config.json\n"
          ]
        }
      ]
    },
    {
      "cell_type": "code",
      "source": [
        "!git clone https://github.com/ZequanLIU/V1_AllenBrainInstitute.git\n"
      ],
      "metadata": {
        "colab": {
          "base_uri": "https://localhost:8080/"
        },
        "id": "yEQ6cpgkAw7v",
        "outputId": "03084599-4f3b-4e6b-ea53-0f5dc9ebfaa3"
      },
      "execution_count": 58,
      "outputs": [
        {
          "output_type": "stream",
          "name": "stdout",
          "text": [
            "Cloning into 'V1_AllenBrainInstitute'...\n",
            "remote: Enumerating objects: 1359, done.\u001b[K\n",
            "remote: Counting objects: 100% (1359/1359), done.\u001b[K\n",
            "remote: Compressing objects: 100% (752/752), done.\u001b[K\n",
            "remote: Total 1359 (delta 606), reused 1358 (delta 605), pack-reused 0 (from 0)\u001b[K\n",
            "Receiving objects: 100% (1359/1359), 33.37 MiB | 13.09 MiB/s, done.\n",
            "Resolving deltas: 100% (606/606), done.\n",
            "Updating files: 100% (1254/1254), done.\n"
          ]
        }
      ]
    },
    {
      "cell_type": "code",
      "source": [
        "%cd V1_AllenBrainInstitute\n",
        "%ls\n"
      ],
      "metadata": {
        "colab": {
          "base_uri": "https://localhost:8080/"
        },
        "id": "6-Ydm-LEBXLy",
        "outputId": "9cbe29e9-9999-429c-dd88-afaddcc04ef8"
      },
      "execution_count": 59,
      "outputs": [
        {
          "output_type": "stream",
          "name": "stdout",
          "text": [
            "/content/sim_ch07/V1_AllenBrainInstitute\n",
            "\u001b[0m\u001b[01;34mcells\u001b[0m/  \u001b[01;34mconn\u001b[0m/  \u001b[01;34mdata\u001b[0m/  index.npjson  LICENSE  \u001b[01;34mmod\u001b[0m/  README.md  \u001b[01;34msrc\u001b[0m/\n"
          ]
        }
      ]
    },
    {
      "cell_type": "markdown",
      "source": [
        "# Install README-required packages\n",
        "For parallel computing"
      ],
      "metadata": {
        "id": "5_H6gx04ByQ1"
      }
    },
    {
      "cell_type": "code",
      "source": [
        "!pip install mpi4py neuron \"ray[default]\""
      ],
      "metadata": {
        "colab": {
          "base_uri": "https://localhost:8080/"
        },
        "collapsed": true,
        "id": "LssSMwc4Bq0X",
        "outputId": "e8d145a0-eaa8-422b-ee23-50393cb82318"
      },
      "execution_count": 60,
      "outputs": [
        {
          "output_type": "stream",
          "name": "stdout",
          "text": [
            "Requirement already satisfied: mpi4py in /usr/local/lib/python3.10/dist-packages (4.0.0)\n",
            "Requirement already satisfied: neuron in /usr/local/lib/python3.10/dist-packages (8.2.6)\n",
            "Requirement already satisfied: ray[default] in /usr/local/lib/python3.10/dist-packages (2.34.0)\n",
            "Requirement already satisfied: numpy<2,>=1.9.3 in /usr/local/lib/python3.10/dist-packages (from neuron) (1.23.5)\n",
            "Requirement already satisfied: packaging in /usr/local/lib/python3.10/dist-packages (from neuron) (24.1)\n",
            "Requirement already satisfied: find-libpython in /usr/local/lib/python3.10/dist-packages (from neuron) (0.4.0)\n",
            "Requirement already satisfied: setuptools in /usr/local/lib/python3.10/dist-packages (from neuron) (71.0.4)\n",
            "Requirement already satisfied: click>=7.0 in /usr/local/lib/python3.10/dist-packages (from ray[default]) (8.1.7)\n",
            "Requirement already satisfied: filelock in /usr/local/lib/python3.10/dist-packages (from ray[default]) (3.15.4)\n",
            "Requirement already satisfied: jsonschema in /usr/local/lib/python3.10/dist-packages (from ray[default]) (4.23.0)\n",
            "Requirement already satisfied: msgpack<2.0.0,>=1.0.0 in /usr/local/lib/python3.10/dist-packages (from ray[default]) (1.0.8)\n",
            "Requirement already satisfied: protobuf!=3.19.5,>=3.15.3 in /usr/local/lib/python3.10/dist-packages (from ray[default]) (3.20.3)\n",
            "Requirement already satisfied: pyyaml in /usr/local/lib/python3.10/dist-packages (from ray[default]) (6.0.2)\n",
            "Requirement already satisfied: aiosignal in /usr/local/lib/python3.10/dist-packages (from ray[default]) (1.3.1)\n",
            "Requirement already satisfied: frozenlist in /usr/local/lib/python3.10/dist-packages (from ray[default]) (1.4.1)\n",
            "Requirement already satisfied: requests in /usr/local/lib/python3.10/dist-packages (from ray[default]) (2.32.3)\n",
            "Requirement already satisfied: aiohttp>=3.7 in /usr/local/lib/python3.10/dist-packages (from ray[default]) (3.10.5)\n",
            "Requirement already satisfied: aiohttp-cors in /usr/local/lib/python3.10/dist-packages (from ray[default]) (0.7.0)\n",
            "Requirement already satisfied: colorful in /usr/local/lib/python3.10/dist-packages (from ray[default]) (0.5.6)\n",
            "Requirement already satisfied: py-spy>=0.2.0 in /usr/local/lib/python3.10/dist-packages (from ray[default]) (0.3.14)\n",
            "Requirement already satisfied: opencensus in /usr/local/lib/python3.10/dist-packages (from ray[default]) (0.11.4)\n",
            "Requirement already satisfied: pydantic!=2.0.*,!=2.1.*,!=2.2.*,!=2.3.*,!=2.4.*,<3 in /usr/local/lib/python3.10/dist-packages (from ray[default]) (2.8.2)\n",
            "Requirement already satisfied: prometheus-client>=0.7.1 in /usr/local/lib/python3.10/dist-packages (from ray[default]) (0.20.0)\n",
            "Requirement already satisfied: smart-open in /usr/local/lib/python3.10/dist-packages (from ray[default]) (7.0.4)\n",
            "Requirement already satisfied: virtualenv!=20.21.1,>=20.0.24 in /usr/local/lib/python3.10/dist-packages (from ray[default]) (20.26.3)\n",
            "Requirement already satisfied: grpcio>=1.42.0 in /usr/local/lib/python3.10/dist-packages (from ray[default]) (1.64.1)\n",
            "Requirement already satisfied: memray in /usr/local/lib/python3.10/dist-packages (from ray[default]) (1.13.4)\n",
            "Requirement already satisfied: aiohappyeyeballs>=2.3.0 in /usr/local/lib/python3.10/dist-packages (from aiohttp>=3.7->ray[default]) (2.4.0)\n",
            "Requirement already satisfied: attrs>=17.3.0 in /usr/local/lib/python3.10/dist-packages (from aiohttp>=3.7->ray[default]) (24.2.0)\n",
            "Requirement already satisfied: multidict<7.0,>=4.5 in /usr/local/lib/python3.10/dist-packages (from aiohttp>=3.7->ray[default]) (6.0.5)\n",
            "Requirement already satisfied: yarl<2.0,>=1.0 in /usr/local/lib/python3.10/dist-packages (from aiohttp>=3.7->ray[default]) (1.9.4)\n",
            "Requirement already satisfied: async-timeout<5.0,>=4.0 in /usr/local/lib/python3.10/dist-packages (from aiohttp>=3.7->ray[default]) (4.0.3)\n",
            "Requirement already satisfied: annotated-types>=0.4.0 in /usr/local/lib/python3.10/dist-packages (from pydantic!=2.0.*,!=2.1.*,!=2.2.*,!=2.3.*,!=2.4.*,<3->ray[default]) (0.7.0)\n",
            "Requirement already satisfied: pydantic-core==2.20.1 in /usr/local/lib/python3.10/dist-packages (from pydantic!=2.0.*,!=2.1.*,!=2.2.*,!=2.3.*,!=2.4.*,<3->ray[default]) (2.20.1)\n",
            "Requirement already satisfied: typing-extensions>=4.6.1 in /usr/local/lib/python3.10/dist-packages (from pydantic!=2.0.*,!=2.1.*,!=2.2.*,!=2.3.*,!=2.4.*,<3->ray[default]) (4.12.2)\n",
            "Requirement already satisfied: distlib<1,>=0.3.7 in /usr/local/lib/python3.10/dist-packages (from virtualenv!=20.21.1,>=20.0.24->ray[default]) (0.3.8)\n",
            "Requirement already satisfied: platformdirs<5,>=3.9.1 in /usr/local/lib/python3.10/dist-packages (from virtualenv!=20.21.1,>=20.0.24->ray[default]) (4.2.2)\n",
            "Requirement already satisfied: jsonschema-specifications>=2023.03.6 in /usr/local/lib/python3.10/dist-packages (from jsonschema->ray[default]) (2023.12.1)\n",
            "Requirement already satisfied: referencing>=0.28.4 in /usr/local/lib/python3.10/dist-packages (from jsonschema->ray[default]) (0.35.1)\n",
            "Requirement already satisfied: rpds-py>=0.7.1 in /usr/local/lib/python3.10/dist-packages (from jsonschema->ray[default]) (0.20.0)\n",
            "Requirement already satisfied: jinja2>=2.9 in /usr/local/lib/python3.10/dist-packages (from memray->ray[default]) (3.1.4)\n",
            "Requirement already satisfied: rich>=11.2.0 in /usr/local/lib/python3.10/dist-packages (from memray->ray[default]) (13.7.1)\n",
            "Requirement already satisfied: textual>=0.41.0 in /usr/local/lib/python3.10/dist-packages (from memray->ray[default]) (0.77.0)\n",
            "Requirement already satisfied: opencensus-context>=0.1.3 in /usr/local/lib/python3.10/dist-packages (from opencensus->ray[default]) (0.1.3)\n",
            "Requirement already satisfied: six~=1.16 in /usr/local/lib/python3.10/dist-packages (from opencensus->ray[default]) (1.16.0)\n",
            "Requirement already satisfied: google-api-core<3.0.0,>=1.0.0 in /usr/local/lib/python3.10/dist-packages (from opencensus->ray[default]) (2.19.1)\n",
            "Requirement already satisfied: charset-normalizer<4,>=2 in /usr/local/lib/python3.10/dist-packages (from requests->ray[default]) (3.3.2)\n",
            "Requirement already satisfied: idna<4,>=2.5 in /usr/local/lib/python3.10/dist-packages (from requests->ray[default]) (3.7)\n",
            "Requirement already satisfied: urllib3<3,>=1.21.1 in /usr/local/lib/python3.10/dist-packages (from requests->ray[default]) (2.0.7)\n",
            "Requirement already satisfied: certifi>=2017.4.17 in /usr/local/lib/python3.10/dist-packages (from requests->ray[default]) (2024.7.4)\n",
            "Requirement already satisfied: wrapt in /usr/local/lib/python3.10/dist-packages (from smart-open->ray[default]) (1.16.0)\n",
            "Requirement already satisfied: googleapis-common-protos<2.0.dev0,>=1.56.2 in /usr/local/lib/python3.10/dist-packages (from google-api-core<3.0.0,>=1.0.0->opencensus->ray[default]) (1.63.2)\n",
            "Requirement already satisfied: proto-plus<2.0.0dev,>=1.22.3 in /usr/local/lib/python3.10/dist-packages (from google-api-core<3.0.0,>=1.0.0->opencensus->ray[default]) (1.24.0)\n",
            "Requirement already satisfied: google-auth<3.0.dev0,>=2.14.1 in /usr/local/lib/python3.10/dist-packages (from google-api-core<3.0.0,>=1.0.0->opencensus->ray[default]) (2.27.0)\n",
            "Requirement already satisfied: MarkupSafe>=2.0 in /usr/local/lib/python3.10/dist-packages (from jinja2>=2.9->memray->ray[default]) (2.1.5)\n",
            "Requirement already satisfied: markdown-it-py>=2.2.0 in /usr/local/lib/python3.10/dist-packages (from rich>=11.2.0->memray->ray[default]) (3.0.0)\n",
            "Requirement already satisfied: pygments<3.0.0,>=2.13.0 in /usr/local/lib/python3.10/dist-packages (from rich>=11.2.0->memray->ray[default]) (2.16.1)\n",
            "Requirement already satisfied: cachetools<6.0,>=2.0.0 in /usr/local/lib/python3.10/dist-packages (from google-auth<3.0.dev0,>=2.14.1->google-api-core<3.0.0,>=1.0.0->opencensus->ray[default]) (5.5.0)\n",
            "Requirement already satisfied: pyasn1-modules>=0.2.1 in /usr/local/lib/python3.10/dist-packages (from google-auth<3.0.dev0,>=2.14.1->google-api-core<3.0.0,>=1.0.0->opencensus->ray[default]) (0.4.0)\n",
            "Requirement already satisfied: rsa<5,>=3.1.4 in /usr/local/lib/python3.10/dist-packages (from google-auth<3.0.dev0,>=2.14.1->google-api-core<3.0.0,>=1.0.0->opencensus->ray[default]) (4.9)\n",
            "Requirement already satisfied: mdurl~=0.1 in /usr/local/lib/python3.10/dist-packages (from markdown-it-py>=2.2.0->rich>=11.2.0->memray->ray[default]) (0.1.2)\n",
            "Requirement already satisfied: linkify-it-py<3,>=1 in /usr/local/lib/python3.10/dist-packages (from markdown-it-py[linkify,plugins]>=2.1.0->textual>=0.41.0->memray->ray[default]) (2.0.3)\n",
            "Requirement already satisfied: mdit-py-plugins in /usr/local/lib/python3.10/dist-packages (from markdown-it-py[linkify,plugins]>=2.1.0->textual>=0.41.0->memray->ray[default]) (0.4.1)\n",
            "Requirement already satisfied: uc-micro-py in /usr/local/lib/python3.10/dist-packages (from linkify-it-py<3,>=1->markdown-it-py[linkify,plugins]>=2.1.0->textual>=0.41.0->memray->ray[default]) (1.0.3)\n",
            "Requirement already satisfied: pyasn1<0.7.0,>=0.4.6 in /usr/local/lib/python3.10/dist-packages (from pyasn1-modules>=0.2.1->google-auth<3.0.dev0,>=2.14.1->google-api-core<3.0.0,>=1.0.0->opencensus->ray[default]) (0.6.0)\n"
          ]
        }
      ]
    },
    {
      "cell_type": "code",
      "source": [
        "!pip install neuron"
      ],
      "metadata": {
        "colab": {
          "base_uri": "https://localhost:8080/"
        },
        "id": "vRTeHT3FB3XF",
        "outputId": "b2eed7c4-466c-4f15-983c-4ab05f5609ca"
      },
      "execution_count": 61,
      "outputs": [
        {
          "output_type": "stream",
          "name": "stdout",
          "text": [
            "Requirement already satisfied: neuron in /usr/local/lib/python3.10/dist-packages (8.2.6)\n",
            "Requirement already satisfied: numpy<2,>=1.9.3 in /usr/local/lib/python3.10/dist-packages (from neuron) (1.23.5)\n",
            "Requirement already satisfied: packaging in /usr/local/lib/python3.10/dist-packages (from neuron) (24.1)\n",
            "Requirement already satisfied: find-libpython in /usr/local/lib/python3.10/dist-packages (from neuron) (0.4.0)\n",
            "Requirement already satisfied: setuptools in /usr/local/lib/python3.10/dist-packages (from neuron) (71.0.4)\n"
          ]
        }
      ]
    },
    {
      "cell_type": "code",
      "source": [
        "# RayTune for hyperparameter optimization or parallel experiment management\n",
        "!pip install -U \"ray[default]\"\n"
      ],
      "metadata": {
        "colab": {
          "base_uri": "https://localhost:8080/"
        },
        "collapsed": true,
        "id": "srYIiWAVCKx1",
        "outputId": "81c75bd8-b50f-4969-978d-6adce756e09c"
      },
      "execution_count": 62,
      "outputs": [
        {
          "output_type": "stream",
          "name": "stdout",
          "text": [
            "Requirement already satisfied: ray[default] in /usr/local/lib/python3.10/dist-packages (2.34.0)\n",
            "Requirement already satisfied: click>=7.0 in /usr/local/lib/python3.10/dist-packages (from ray[default]) (8.1.7)\n",
            "Requirement already satisfied: filelock in /usr/local/lib/python3.10/dist-packages (from ray[default]) (3.15.4)\n",
            "Requirement already satisfied: jsonschema in /usr/local/lib/python3.10/dist-packages (from ray[default]) (4.23.0)\n",
            "Requirement already satisfied: msgpack<2.0.0,>=1.0.0 in /usr/local/lib/python3.10/dist-packages (from ray[default]) (1.0.8)\n",
            "Requirement already satisfied: packaging in /usr/local/lib/python3.10/dist-packages (from ray[default]) (24.1)\n",
            "Requirement already satisfied: protobuf!=3.19.5,>=3.15.3 in /usr/local/lib/python3.10/dist-packages (from ray[default]) (3.20.3)\n",
            "Requirement already satisfied: pyyaml in /usr/local/lib/python3.10/dist-packages (from ray[default]) (6.0.2)\n",
            "Requirement already satisfied: aiosignal in /usr/local/lib/python3.10/dist-packages (from ray[default]) (1.3.1)\n",
            "Requirement already satisfied: frozenlist in /usr/local/lib/python3.10/dist-packages (from ray[default]) (1.4.1)\n",
            "Requirement already satisfied: requests in /usr/local/lib/python3.10/dist-packages (from ray[default]) (2.32.3)\n",
            "Requirement already satisfied: aiohttp>=3.7 in /usr/local/lib/python3.10/dist-packages (from ray[default]) (3.10.5)\n",
            "Requirement already satisfied: aiohttp-cors in /usr/local/lib/python3.10/dist-packages (from ray[default]) (0.7.0)\n",
            "Requirement already satisfied: colorful in /usr/local/lib/python3.10/dist-packages (from ray[default]) (0.5.6)\n",
            "Requirement already satisfied: py-spy>=0.2.0 in /usr/local/lib/python3.10/dist-packages (from ray[default]) (0.3.14)\n",
            "Requirement already satisfied: opencensus in /usr/local/lib/python3.10/dist-packages (from ray[default]) (0.11.4)\n",
            "Requirement already satisfied: pydantic!=2.0.*,!=2.1.*,!=2.2.*,!=2.3.*,!=2.4.*,<3 in /usr/local/lib/python3.10/dist-packages (from ray[default]) (2.8.2)\n",
            "Requirement already satisfied: prometheus-client>=0.7.1 in /usr/local/lib/python3.10/dist-packages (from ray[default]) (0.20.0)\n",
            "Requirement already satisfied: smart-open in /usr/local/lib/python3.10/dist-packages (from ray[default]) (7.0.4)\n",
            "Requirement already satisfied: virtualenv!=20.21.1,>=20.0.24 in /usr/local/lib/python3.10/dist-packages (from ray[default]) (20.26.3)\n",
            "Requirement already satisfied: grpcio>=1.42.0 in /usr/local/lib/python3.10/dist-packages (from ray[default]) (1.64.1)\n",
            "Requirement already satisfied: memray in /usr/local/lib/python3.10/dist-packages (from ray[default]) (1.13.4)\n",
            "Requirement already satisfied: aiohappyeyeballs>=2.3.0 in /usr/local/lib/python3.10/dist-packages (from aiohttp>=3.7->ray[default]) (2.4.0)\n",
            "Requirement already satisfied: attrs>=17.3.0 in /usr/local/lib/python3.10/dist-packages (from aiohttp>=3.7->ray[default]) (24.2.0)\n",
            "Requirement already satisfied: multidict<7.0,>=4.5 in /usr/local/lib/python3.10/dist-packages (from aiohttp>=3.7->ray[default]) (6.0.5)\n",
            "Requirement already satisfied: yarl<2.0,>=1.0 in /usr/local/lib/python3.10/dist-packages (from aiohttp>=3.7->ray[default]) (1.9.4)\n",
            "Requirement already satisfied: async-timeout<5.0,>=4.0 in /usr/local/lib/python3.10/dist-packages (from aiohttp>=3.7->ray[default]) (4.0.3)\n",
            "Requirement already satisfied: annotated-types>=0.4.0 in /usr/local/lib/python3.10/dist-packages (from pydantic!=2.0.*,!=2.1.*,!=2.2.*,!=2.3.*,!=2.4.*,<3->ray[default]) (0.7.0)\n",
            "Requirement already satisfied: pydantic-core==2.20.1 in /usr/local/lib/python3.10/dist-packages (from pydantic!=2.0.*,!=2.1.*,!=2.2.*,!=2.3.*,!=2.4.*,<3->ray[default]) (2.20.1)\n",
            "Requirement already satisfied: typing-extensions>=4.6.1 in /usr/local/lib/python3.10/dist-packages (from pydantic!=2.0.*,!=2.1.*,!=2.2.*,!=2.3.*,!=2.4.*,<3->ray[default]) (4.12.2)\n",
            "Requirement already satisfied: distlib<1,>=0.3.7 in /usr/local/lib/python3.10/dist-packages (from virtualenv!=20.21.1,>=20.0.24->ray[default]) (0.3.8)\n",
            "Requirement already satisfied: platformdirs<5,>=3.9.1 in /usr/local/lib/python3.10/dist-packages (from virtualenv!=20.21.1,>=20.0.24->ray[default]) (4.2.2)\n",
            "Requirement already satisfied: jsonschema-specifications>=2023.03.6 in /usr/local/lib/python3.10/dist-packages (from jsonschema->ray[default]) (2023.12.1)\n",
            "Requirement already satisfied: referencing>=0.28.4 in /usr/local/lib/python3.10/dist-packages (from jsonschema->ray[default]) (0.35.1)\n",
            "Requirement already satisfied: rpds-py>=0.7.1 in /usr/local/lib/python3.10/dist-packages (from jsonschema->ray[default]) (0.20.0)\n",
            "Requirement already satisfied: jinja2>=2.9 in /usr/local/lib/python3.10/dist-packages (from memray->ray[default]) (3.1.4)\n",
            "Requirement already satisfied: rich>=11.2.0 in /usr/local/lib/python3.10/dist-packages (from memray->ray[default]) (13.7.1)\n",
            "Requirement already satisfied: textual>=0.41.0 in /usr/local/lib/python3.10/dist-packages (from memray->ray[default]) (0.77.0)\n",
            "Requirement already satisfied: opencensus-context>=0.1.3 in /usr/local/lib/python3.10/dist-packages (from opencensus->ray[default]) (0.1.3)\n",
            "Requirement already satisfied: six~=1.16 in /usr/local/lib/python3.10/dist-packages (from opencensus->ray[default]) (1.16.0)\n",
            "Requirement already satisfied: google-api-core<3.0.0,>=1.0.0 in /usr/local/lib/python3.10/dist-packages (from opencensus->ray[default]) (2.19.1)\n",
            "Requirement already satisfied: charset-normalizer<4,>=2 in /usr/local/lib/python3.10/dist-packages (from requests->ray[default]) (3.3.2)\n",
            "Requirement already satisfied: idna<4,>=2.5 in /usr/local/lib/python3.10/dist-packages (from requests->ray[default]) (3.7)\n",
            "Requirement already satisfied: urllib3<3,>=1.21.1 in /usr/local/lib/python3.10/dist-packages (from requests->ray[default]) (2.0.7)\n",
            "Requirement already satisfied: certifi>=2017.4.17 in /usr/local/lib/python3.10/dist-packages (from requests->ray[default]) (2024.7.4)\n",
            "Requirement already satisfied: wrapt in /usr/local/lib/python3.10/dist-packages (from smart-open->ray[default]) (1.16.0)\n",
            "Requirement already satisfied: googleapis-common-protos<2.0.dev0,>=1.56.2 in /usr/local/lib/python3.10/dist-packages (from google-api-core<3.0.0,>=1.0.0->opencensus->ray[default]) (1.63.2)\n",
            "Requirement already satisfied: proto-plus<2.0.0dev,>=1.22.3 in /usr/local/lib/python3.10/dist-packages (from google-api-core<3.0.0,>=1.0.0->opencensus->ray[default]) (1.24.0)\n",
            "Requirement already satisfied: google-auth<3.0.dev0,>=2.14.1 in /usr/local/lib/python3.10/dist-packages (from google-api-core<3.0.0,>=1.0.0->opencensus->ray[default]) (2.27.0)\n",
            "Requirement already satisfied: MarkupSafe>=2.0 in /usr/local/lib/python3.10/dist-packages (from jinja2>=2.9->memray->ray[default]) (2.1.5)\n",
            "Requirement already satisfied: markdown-it-py>=2.2.0 in /usr/local/lib/python3.10/dist-packages (from rich>=11.2.0->memray->ray[default]) (3.0.0)\n",
            "Requirement already satisfied: pygments<3.0.0,>=2.13.0 in /usr/local/lib/python3.10/dist-packages (from rich>=11.2.0->memray->ray[default]) (2.16.1)\n",
            "Requirement already satisfied: cachetools<6.0,>=2.0.0 in /usr/local/lib/python3.10/dist-packages (from google-auth<3.0.dev0,>=2.14.1->google-api-core<3.0.0,>=1.0.0->opencensus->ray[default]) (5.5.0)\n",
            "Requirement already satisfied: pyasn1-modules>=0.2.1 in /usr/local/lib/python3.10/dist-packages (from google-auth<3.0.dev0,>=2.14.1->google-api-core<3.0.0,>=1.0.0->opencensus->ray[default]) (0.4.0)\n",
            "Requirement already satisfied: rsa<5,>=3.1.4 in /usr/local/lib/python3.10/dist-packages (from google-auth<3.0.dev0,>=2.14.1->google-api-core<3.0.0,>=1.0.0->opencensus->ray[default]) (4.9)\n",
            "Requirement already satisfied: mdurl~=0.1 in /usr/local/lib/python3.10/dist-packages (from markdown-it-py>=2.2.0->rich>=11.2.0->memray->ray[default]) (0.1.2)\n",
            "Requirement already satisfied: mdit-py-plugins in /usr/local/lib/python3.10/dist-packages (from markdown-it-py[linkify,plugins]>=2.1.0->textual>=0.41.0->memray->ray[default]) (0.4.1)\n",
            "Requirement already satisfied: linkify-it-py<3,>=1 in /usr/local/lib/python3.10/dist-packages (from markdown-it-py[linkify,plugins]>=2.1.0->textual>=0.41.0->memray->ray[default]) (2.0.3)\n",
            "Requirement already satisfied: uc-micro-py in /usr/local/lib/python3.10/dist-packages (from linkify-it-py<3,>=1->markdown-it-py[linkify,plugins]>=2.1.0->textual>=0.41.0->memray->ray[default]) (1.0.3)\n",
            "Requirement already satisfied: pyasn1<0.7.0,>=0.4.6 in /usr/local/lib/python3.10/dist-packages (from pyasn1-modules>=0.2.1->google-auth<3.0.dev0,>=2.14.1->google-api-core<3.0.0,>=1.0.0->opencensus->ray[default]) (0.6.0)\n"
          ]
        }
      ]
    },
    {
      "cell_type": "markdown",
      "source": [
        "The cfg.py file, which is used to define the configuration of the entire simulation, including neuron type, number, connectivity, inputs, etc. for each layer."
      ],
      "metadata": {
        "id": "0zqCWiF-D1fB"
      }
    },
    {
      "cell_type": "code",
      "source": [
        "%cd .."
      ],
      "metadata": {
        "colab": {
          "base_uri": "https://localhost:8080/"
        },
        "id": "BFyP8X07DBHO",
        "outputId": "442a2860-f169-497d-9bad-c0518775513a"
      },
      "execution_count": 63,
      "outputs": [
        {
          "output_type": "stream",
          "name": "stdout",
          "text": [
            "/content/sim_ch07\n"
          ]
        }
      ]
    },
    {
      "cell_type": "code",
      "source": [
        "# Clone the NetPyNE repository\n",
        "!git clone https://github.com/Neurosim-lab/netpyne.git\n",
        "\n",
        "# Go to the netpyne directory\n",
        "%cd netpyne\n",
        "\n",
        "# Switch to the batch branch\n",
        "!git checkout batch\n",
        "\n",
        "# Install NetPyNE in development mode\n",
        "!pip install -e ."
      ],
      "metadata": {
        "colab": {
          "base_uri": "https://localhost:8080/"
        },
        "collapsed": true,
        "id": "JWDDIkVBEeud",
        "outputId": "92aa87c3-f183-4d7f-d628-c0ad4b00de41"
      },
      "execution_count": 64,
      "outputs": [
        {
          "output_type": "stream",
          "name": "stdout",
          "text": [
            "fatal: destination path 'netpyne' already exists and is not an empty directory.\n",
            "/content/sim_ch07/netpyne\n",
            "Branch 'batch' set up to track remote branch 'batch' from 'origin'.\n",
            "Switched to a new branch 'batch'\n",
            "Obtaining file:///content/sim_ch07/netpyne\n",
            "  Preparing metadata (setup.py) ... \u001b[?25l\u001b[?25hdone\n",
            "Requirement already satisfied: numpy in /usr/local/lib/python3.10/dist-packages (from netpyne==1.0.6) (1.23.5)\n",
            "Requirement already satisfied: scipy in /usr/local/lib/python3.10/dist-packages (from netpyne==1.0.6) (1.10.1)\n",
            "Requirement already satisfied: matplotlib in /usr/local/lib/python3.10/dist-packages (from netpyne==1.0.6) (3.7.1)\n",
            "Requirement already satisfied: matplotlib-scalebar in /usr/local/lib/python3.10/dist-packages (from netpyne==1.0.6) (0.8.1)\n",
            "Requirement already satisfied: future in /usr/local/lib/python3.10/dist-packages (from netpyne==1.0.6) (1.0.0)\n",
            "Requirement already satisfied: pandas in /usr/local/lib/python3.10/dist-packages (from netpyne==1.0.6) (1.5.3)\n",
            "Requirement already satisfied: bokeh in /usr/local/lib/python3.10/dist-packages (from netpyne==1.0.6) (3.4.3)\n",
            "Requirement already satisfied: schema in /usr/local/lib/python3.10/dist-packages (from netpyne==1.0.6) (0.7.7)\n",
            "Requirement already satisfied: lfpykit in /usr/local/lib/python3.10/dist-packages (from netpyne==1.0.6) (0.5.1)\n",
            "Requirement already satisfied: tqdm in /usr/local/lib/python3.10/dist-packages (from netpyne==1.0.6) (4.66.5)\n",
            "Requirement already satisfied: Jinja2>=2.9 in /usr/local/lib/python3.10/dist-packages (from bokeh->netpyne==1.0.6) (3.1.4)\n",
            "Requirement already satisfied: contourpy>=1.2 in /usr/local/lib/python3.10/dist-packages (from bokeh->netpyne==1.0.6) (1.2.1)\n",
            "Requirement already satisfied: packaging>=16.8 in /usr/local/lib/python3.10/dist-packages (from bokeh->netpyne==1.0.6) (24.1)\n",
            "Requirement already satisfied: pillow>=7.1.0 in /usr/local/lib/python3.10/dist-packages (from bokeh->netpyne==1.0.6) (9.4.0)\n",
            "Requirement already satisfied: PyYAML>=3.10 in /usr/local/lib/python3.10/dist-packages (from bokeh->netpyne==1.0.6) (6.0.2)\n",
            "Requirement already satisfied: tornado>=6.2 in /usr/local/lib/python3.10/dist-packages (from bokeh->netpyne==1.0.6) (6.3.3)\n",
            "Requirement already satisfied: xyzservices>=2021.09.1 in /usr/local/lib/python3.10/dist-packages (from bokeh->netpyne==1.0.6) (2024.6.0)\n",
            "Requirement already satisfied: python-dateutil>=2.8.1 in /usr/local/lib/python3.10/dist-packages (from pandas->netpyne==1.0.6) (2.8.2)\n",
            "Requirement already satisfied: pytz>=2020.1 in /usr/local/lib/python3.10/dist-packages (from pandas->netpyne==1.0.6) (2024.1)\n",
            "Requirement already satisfied: meautility in /usr/local/lib/python3.10/dist-packages (from lfpykit->netpyne==1.0.6) (1.5.1)\n",
            "Requirement already satisfied: cycler>=0.10 in /usr/local/lib/python3.10/dist-packages (from matplotlib->netpyne==1.0.6) (0.12.1)\n",
            "Requirement already satisfied: fonttools>=4.22.0 in /usr/local/lib/python3.10/dist-packages (from matplotlib->netpyne==1.0.6) (4.53.1)\n",
            "Requirement already satisfied: kiwisolver>=1.0.1 in /usr/local/lib/python3.10/dist-packages (from matplotlib->netpyne==1.0.6) (1.4.5)\n",
            "Requirement already satisfied: pyparsing>=2.3.1 in /usr/local/lib/python3.10/dist-packages (from matplotlib->netpyne==1.0.6) (3.1.2)\n",
            "Requirement already satisfied: MarkupSafe>=2.0 in /usr/local/lib/python3.10/dist-packages (from Jinja2>=2.9->bokeh->netpyne==1.0.6) (2.1.5)\n",
            "Requirement already satisfied: six>=1.5 in /usr/local/lib/python3.10/dist-packages (from python-dateutil>=2.8.1->pandas->netpyne==1.0.6) (1.16.0)\n",
            "Installing collected packages: netpyne\n",
            "  Attempting uninstall: netpyne\n",
            "    Found existing installation: netpyne 1.0.6\n",
            "    Uninstalling netpyne-1.0.6:\n",
            "      Successfully uninstalled netpyne-1.0.6\n",
            "  Running setup.py develop for netpyne\n",
            "Successfully installed netpyne-1.0.6\n"
          ]
        }
      ]
    },
    {
      "cell_type": "code",
      "source": [
        "%cd .."
      ],
      "metadata": {
        "colab": {
          "base_uri": "https://localhost:8080/"
        },
        "id": "HhzKEnkgEjZg",
        "outputId": "2f76ea08-37f8-4014-fa97-fae71a6d7b2f"
      },
      "execution_count": 65,
      "outputs": [
        {
          "output_type": "stream",
          "name": "stdout",
          "text": [
            "/content/sim_ch07\n"
          ]
        }
      ]
    },
    {
      "cell_type": "code",
      "source": [
        "# Clone the BatchTools repository\n",
        "!git clone https://github.com/jchen6727/batchtk.git\n",
        "\n",
        "# Go to the batchtk directory\n",
        "%cd batchtk\n",
        "\n",
        "# Install BatchTools in development mode\n",
        "!pip install -e ."
      ],
      "metadata": {
        "colab": {
          "base_uri": "https://localhost:8080/"
        },
        "collapsed": true,
        "id": "sSuy3d8oEsGs",
        "outputId": "836972cd-ac12-463a-ccba-028a70c3f3ca"
      },
      "execution_count": 66,
      "outputs": [
        {
          "output_type": "stream",
          "name": "stdout",
          "text": [
            "Cloning into 'batchtk'...\n",
            "remote: Enumerating objects: 1331, done.\u001b[K\n",
            "remote: Counting objects: 100% (1331/1331), done.\u001b[K\n",
            "remote: Compressing objects: 100% (555/555), done.\u001b[K\n",
            "remote: Total 1331 (delta 759), reused 1292 (delta 720), pack-reused 0 (from 0)\u001b[K\n",
            "Receiving objects: 100% (1331/1331), 436.59 KiB | 3.26 MiB/s, done.\n",
            "Resolving deltas: 100% (759/759), done.\n",
            "/content/sim_ch07/batchtk\n",
            "Obtaining file:///content/sim_ch07/batchtk\n",
            "  Installing build dependencies ... \u001b[?25l\u001b[?25hdone\n",
            "  Checking if build backend supports build_editable ... \u001b[?25l\u001b[?25hdone\n",
            "  Getting requirements to build editable ... \u001b[?25l\u001b[?25hdone\n",
            "  Preparing editable metadata (pyproject.toml) ... \u001b[?25l\u001b[?25hdone\n",
            "Requirement already satisfied: importlib-metadata in /usr/local/lib/python3.10/dist-packages (from batchtk==0.0.1rc0) (8.4.0)\n",
            "Requirement already satisfied: zipp>=0.5 in /usr/local/lib/python3.10/dist-packages (from importlib-metadata->batchtk==0.0.1rc0) (3.20.0)\n",
            "Building wheels for collected packages: batchtk\n",
            "  Building editable for batchtk (pyproject.toml) ... \u001b[?25l\u001b[?25hdone\n",
            "  Created wheel for batchtk: filename=batchtk-0.0.1rc0-0.editable-py3-none-any.whl size=4776 sha256=3a6fd34787d6f66b63d2e9b0a2e12c387c3cded133b496c54d4d4cf7d1ecd7cb\n",
            "  Stored in directory: /tmp/pip-ephem-wheel-cache-zcle68ww/wheels/25/1a/2b/e7afe9442438de2682f40baa1b9cafce1dbe990d30a499877e\n",
            "Successfully built batchtk\n",
            "Installing collected packages: batchtk\n",
            "  Attempting uninstall: batchtk\n",
            "    Found existing installation: batchtk 0.0.1rc0\n",
            "    Uninstalling batchtk-0.0.1rc0:\n",
            "      Successfully uninstalled batchtk-0.0.1rc0\n",
            "Successfully installed batchtk-0.0.1rc0\n"
          ]
        }
      ]
    },
    {
      "cell_type": "code",
      "source": [
        "%cd .."
      ],
      "metadata": {
        "colab": {
          "base_uri": "https://localhost:8080/"
        },
        "id": "fF5nSH9TEwyE",
        "outputId": "6c808cb3-b971-4d39-81ac-98fff3720d12"
      },
      "execution_count": 67,
      "outputs": [
        {
          "output_type": "stream",
          "name": "stdout",
          "text": [
            "/content/sim_ch07\n"
          ]
        }
      ]
    },
    {
      "cell_type": "markdown",
      "source": [
        "#Checking the compilation result\n",
        "# After the compilation is complete, check that a new directory, usually named x86_64 (on Linux systems), has been generated. This directory contains the compiled C code. If the compilation was successful, you can continue with the simulation steps."
      ],
      "metadata": {
        "id": "gEMfbt8yG45W"
      }
    },
    {
      "cell_type": "code",
      "source": [
        "%cd V1_AllenBrainInstitute"
      ],
      "metadata": {
        "colab": {
          "base_uri": "https://localhost:8080/"
        },
        "id": "s0Hq2b1bF-dH",
        "outputId": "e503b41b-11ab-44f2-b0e3-537387ae65bd"
      },
      "execution_count": 68,
      "outputs": [
        {
          "output_type": "stream",
          "name": "stdout",
          "text": [
            "/content/sim_ch07/V1_AllenBrainInstitute\n"
          ]
        }
      ]
    },
    {
      "cell_type": "code",
      "source": [
        "# Compile the NEURON mechanism\n",
        "# If the mod folder is one level up from the src directory, you can use the following command\n",
        "!nrnivmodl mod/"
      ],
      "metadata": {
        "colab": {
          "base_uri": "https://localhost:8080/"
        },
        "collapsed": true,
        "id": "-ok_U1KSE7i0",
        "outputId": "20086494-39cf-40f9-874c-9f24b9f007ee"
      },
      "execution_count": 69,
      "outputs": [
        {
          "output_type": "stream",
          "name": "stdout",
          "text": [
            "/usr/local/bin/nrnivmodl:10: DeprecationWarning: pkg_resources is deprecated as an API. See https://setuptools.pypa.io/en/latest/pkg_resources.html\n",
            "  from pkg_resources import working_set\n",
            "/content/sim_ch07/V1_AllenBrainInstitute\n",
            "Mod files: \"mod/mod//CaDynamics.mod\" \"mod/mod//Ca_HVA.mod\" \"mod/mod//Ca_LVA.mod\" \"mod/mod//gap.mod\" \"mod/mod//Ih.mod\" \"mod/mod//Im.mod\" \"mod/mod//Im_v2.mod\" \"mod/mod//Kd.mod\" \"mod/mod//K_P.mod\" \"mod/mod//K_T.mod\" \"mod/mod//Kv2like.mod\" \"mod/mod//Kv3_1.mod\" \"mod/mod//MyExp2SynBB.mod\" \"mod/mod//my_exp2syn.mod\" \"mod/mod//MyExp2SynNMDABB.mod\" \"mod/mod//Nap.mod\" \"mod/mod//NaTa.mod\" \"mod/mod//NaTs.mod\" \"mod/mod//NaV.mod\" \"mod/mod//SK.mod\" \"mod/mod//vecstim.mod\"\n",
            "\n",
            "Creating 'x86_64' directory for .o files.\n",
            "\n",
            " -> \u001b[32mCompiling\u001b[0m mod_func.cpp\n",
            " -> \u001b[32mNMODL\u001b[0m ../mod//CaDynamics.mod\n",
            " -> \u001b[32mNMODL\u001b[0m ../mod//Ca_HVA.mod\n",
            " -> \u001b[32mNMODL\u001b[0m ../mod//Ca_LVA.mod\n",
            "Translating CaDynamics.mod into /content/sim_ch07/V1_AllenBrainInstitute/x86_64/CaDynamics.c\n",
            "Translating Ca_HVA.mod into /content/sim_ch07/V1_AllenBrainInstitute/x86_64/Ca_HVA.c\n",
            "Thread Safe\n",
            "Thread Safe\n",
            " -> \u001b[32mNMODL\u001b[0m ../mod//gap.mod\n",
            "Translating gap.mod into /content/sim_ch07/V1_AllenBrainInstitute/x86_64/gap.c\n",
            "Translating Ca_LVA.mod into /content/sim_ch07/V1_AllenBrainInstitute/x86_64/Ca_LVA.c\n",
            "Thread Safe\n",
            " -> \u001b[32mNMODL\u001b[0m ../mod//Ih.mod\n",
            "Thread Safe\n",
            " -> \u001b[32mNMODL\u001b[0m ../mod//Im.mod\n",
            " -> \u001b[32mNMODL\u001b[0m ../mod//Im_v2.mod\n",
            "Translating Ih.mod into /content/sim_ch07/V1_AllenBrainInstitute/x86_64/Ih.c\n",
            "Translating Im.mod into /content/sim_ch07/V1_AllenBrainInstitute/x86_64/Im.c\n",
            "Thread Safe\n",
            "Thread Safe\n",
            "Translating Im_v2.mod into /content/sim_ch07/V1_AllenBrainInstitute/x86_64/Im_v2.c\n",
            " -> \u001b[32mNMODL\u001b[0m ../mod//Kd.mod\n",
            "Thread Safe\n",
            " -> \u001b[32mNMODL\u001b[0m ../mod//K_P.mod\n",
            " -> \u001b[32mNMODL\u001b[0m ../mod//K_T.mod\n",
            "Translating K_P.mod into /content/sim_ch07/V1_AllenBrainInstitute/x86_64/K_P.c\n",
            "Translating Kd.mod into /content/sim_ch07/V1_AllenBrainInstitute/x86_64/Kd.c\n",
            "Thread Safe\n",
            "Thread Safe\n",
            " -> \u001b[32mNMODL\u001b[0m ../mod//Kv2like.mod\n",
            "Translating K_T.mod into /content/sim_ch07/V1_AllenBrainInstitute/x86_64/K_T.c\n",
            "Thread Safe\n",
            " -> \u001b[32mNMODL\u001b[0m ../mod//Kv3_1.mod\n",
            "Translating Kv2like.mod into /content/sim_ch07/V1_AllenBrainInstitute/x86_64/Kv2like.c\n",
            " -> \u001b[32mNMODL\u001b[0m ../mod//MyExp2SynBB.mod\n",
            "Thread Safe\n",
            " -> \u001b[32mNMODL\u001b[0m ../mod//my_exp2syn.mod\n",
            "Translating Kv3_1.mod into /content/sim_ch07/V1_AllenBrainInstitute/x86_64/Kv3_1.c\n",
            "Translating MyExp2SynBB.mod into /content/sim_ch07/V1_AllenBrainInstitute/x86_64/MyExp2SynBB.c\n",
            "Thread Safe\n",
            "Thread Safe\n",
            " -> \u001b[32mNMODL\u001b[0m ../mod//MyExp2SynNMDABB.mod\n",
            " -> \u001b[32mNMODL\u001b[0m ../mod//Nap.mod\n",
            "Translating my_exp2syn.mod into /content/sim_ch07/V1_AllenBrainInstitute/x86_64/my_exp2syn.c\n",
            "Translating MyExp2SynNMDABB.mod into /content/sim_ch07/V1_AllenBrainInstitute/x86_64/MyExp2SynNMDABB.c\n",
            "INCLUDEing ghk.inc\n",
            "Notice: Assignment to the GLOBAL variable, \"total\", is not thread safe\n",
            "Warning: celsius undefined. (declared within VERBATIM?)\n",
            "Translating Nap.mod into /content/sim_ch07/V1_AllenBrainInstitute/x86_64/Nap.c\n",
            "Thread Safe\n",
            "Thread Safe\n",
            " -> \u001b[32mNMODL\u001b[0m ../mod//NaTs.mod\n",
            " -> \u001b[32mNMODL\u001b[0m ../mod//NaTa.mod\n",
            " -> \u001b[32mNMODL\u001b[0m ../mod//NaV.mod\n",
            "Translating NaTs.mod into /content/sim_ch07/V1_AllenBrainInstitute/x86_64/NaTs.c\n",
            "Thread Safe\n",
            "Translating NaTa.mod into /content/sim_ch07/V1_AllenBrainInstitute/x86_64/NaTa.c\n",
            "Thread Safe\n",
            "Translating NaV.mod into /content/sim_ch07/V1_AllenBrainInstitute/x86_64/NaV.c\n",
            " -> \u001b[32mNMODL\u001b[0m ../mod//SK.mod\n",
            "NEURON's CVode method ignores conservation\n",
            "Notice: LINEAR is not thread safe.\n",
            " -> \u001b[32mNMODL\u001b[0m ../mod//vecstim.mod\n",
            "Translating SK.mod into /content/sim_ch07/V1_AllenBrainInstitute/x86_64/SK.c\n",
            " -> \u001b[32mCompiling\u001b[0m CaDynamics.c\n",
            "Thread Safe\n",
            " -> \u001b[32mCompiling\u001b[0m Ca_HVA.c\n",
            "Translating vecstim.mod into /content/sim_ch07/V1_AllenBrainInstitute/x86_64/vecstim.c\n",
            "Thread Safe\n",
            " -> \u001b[32mCompiling\u001b[0m Ca_LVA.c\n",
            " -> \u001b[32mCompiling\u001b[0m gap.c\n",
            " -> \u001b[32mCompiling\u001b[0m Ih.c\n",
            " -> \u001b[32mCompiling\u001b[0m Im.c\n",
            " -> \u001b[32mCompiling\u001b[0m Im_v2.c\n",
            " -> \u001b[32mCompiling\u001b[0m Kd.c\n",
            " -> \u001b[32mCompiling\u001b[0m K_P.c\n",
            " -> \u001b[32mCompiling\u001b[0m K_T.c\n",
            " -> \u001b[32mCompiling\u001b[0m Kv2like.c\n",
            " -> \u001b[32mCompiling\u001b[0m Kv3_1.c\n",
            " -> \u001b[32mCompiling\u001b[0m MyExp2SynBB.c\n",
            " -> \u001b[32mCompiling\u001b[0m my_exp2syn.c\n",
            " -> \u001b[32mCompiling\u001b[0m MyExp2SynNMDABB.c\n",
            " -> \u001b[32mCompiling\u001b[0m Nap.c\n",
            " -> \u001b[32mCompiling\u001b[0m NaTa.c\n",
            " -> \u001b[32mCompiling\u001b[0m NaTs.c\n",
            " -> \u001b[32mCompiling\u001b[0m NaV.c\n",
            " -> \u001b[32mCompiling\u001b[0m SK.c\n",
            " -> \u001b[32mCompiling\u001b[0m vecstim.c\n",
            " => \u001b[32mLINKING\u001b[0m shared library ./libnrnmech.so\n",
            " => \u001b[32mLINKING\u001b[0m executable ./special LDFLAGS are:    -pthread\n",
            "Successfully created x86_64/special\n"
          ]
        }
      ]
    },
    {
      "cell_type": "markdown",
      "source": [
        "# running simulation"
      ],
      "metadata": {
        "id": "0WYSaJeMHB-x"
      }
    },
    {
      "cell_type": "code",
      "source": [
        "\n",
        "!mpiexec -n 4 nrniv -mpi -python src/init.py\n"
      ],
      "metadata": {
        "colab": {
          "base_uri": "https://localhost:8080/"
        },
        "id": "zeSwNR9bHDcV",
        "outputId": "871aae2e-062f-4845-8b0c-096bf5752486"
      },
      "execution_count": 70,
      "outputs": [
        {
          "output_type": "stream",
          "name": "stdout",
          "text": [
            "--------------------------------------------------------------------------\n",
            "mpiexec has detected an attempt to run as root.\n",
            "\n",
            "Running as root is *strongly* discouraged as any mistake (e.g., in\n",
            "defining TMPDIR) or bug can result in catastrophic damage to the OS\n",
            "file system, leaving your system in an unusable state.\n",
            "\n",
            "We strongly suggest that you run mpiexec as a non-root user.\n",
            "\n",
            "You can override this protection by adding the --allow-run-as-root option\n",
            "to the cmd line or by setting two environment variables in the following way:\n",
            "the variable OMPI_ALLOW_RUN_AS_ROOT=1 to indicate the desire to override this\n",
            "protection, and OMPI_ALLOW_RUN_AS_ROOT_CONFIRM=1 to confirm the choice and\n",
            "add one more layer of certainty that you want to do so.\n",
            "We reiterate our advice against doing so - please proceed at your own risk.\n",
            "--------------------------------------------------------------------------\n"
          ]
        }
      ]
    },
    {
      "cell_type": "code",
      "source": [
        "%ls"
      ],
      "metadata": {
        "colab": {
          "base_uri": "https://localhost:8080/"
        },
        "id": "i0uk_cPhHbWS",
        "outputId": "c2c4dd83-c6b5-4409-f915-318f0a717c2d"
      },
      "execution_count": 71,
      "outputs": [
        {
          "output_type": "stream",
          "name": "stdout",
          "text": [
            "\u001b[0m\u001b[01;34mcells\u001b[0m/  \u001b[01;34mconn\u001b[0m/  \u001b[01;34mdata\u001b[0m/  index.npjson  LICENSE  \u001b[01;34mmod\u001b[0m/  README.md  \u001b[01;34msrc\u001b[0m/  \u001b[01;34mx86_64\u001b[0m/\n"
          ]
        }
      ]
    },
    {
      "cell_type": "code",
      "source": [],
      "metadata": {
        "id": "jQHyG0CcHD3I"
      },
      "execution_count": 71,
      "outputs": []
    },
    {
      "cell_type": "markdown",
      "source": [
        "# Load the cell model files associated with the V1 model. Inside are the basic properties of each cell model, such as excitatory or inhibitory cell type, hierarchical distribution, and biophysical parameters. The next step is to load the cell types extracted from bio_models_prop.csv into NetPyNE and set the connectivity of the cortical column models."
      ],
      "metadata": {
        "id": "-UQKz2XcLfgg"
      }
    },
    {
      "cell_type": "markdown",
      "source": [
        "## Parse the bio_models_prop.csv file"
      ],
      "metadata": {
        "id": "qS5fzuAPL1dR"
      }
    },
    {
      "cell_type": "code",
      "source": [
        "%cd ../netpyne/"
      ],
      "metadata": {
        "colab": {
          "base_uri": "https://localhost:8080/"
        },
        "id": "98j3hSCaNepl",
        "outputId": "9e60be7b-b3e6-48af-907a-ac7d12062b48"
      },
      "execution_count": 72,
      "outputs": [
        {
          "output_type": "stream",
          "name": "stdout",
          "text": [
            "/content/sim_ch07/netpyne\n"
          ]
        }
      ]
    },
    {
      "cell_type": "code",
      "source": [
        "%cd ../netpyne/netpyne"
      ],
      "metadata": {
        "colab": {
          "base_uri": "https://localhost:8080/"
        },
        "id": "WkFnHiq0PtbK",
        "outputId": "ff43c706-309d-4ec1-f922-3e911a73bd6a"
      },
      "execution_count": 73,
      "outputs": [
        {
          "output_type": "stream",
          "name": "stdout",
          "text": [
            "/content/sim_ch07/netpyne/netpyne\n"
          ]
        }
      ]
    },
    {
      "cell_type": "code",
      "source": [
        "!ls /content/netpyne/netpyne/specs\n"
      ],
      "metadata": {
        "colab": {
          "base_uri": "https://localhost:8080/"
        },
        "id": "qNhiJb5aQl_P",
        "outputId": "4237fab7-5742-4bd3-e4f9-e9848885e9ec"
      },
      "execution_count": 74,
      "outputs": [
        {
          "output_type": "stream",
          "name": "stdout",
          "text": [
            "dicts.py  __init__.py  netParams.py  __pycache__  simConfig.py\tutils.py\n"
          ]
        }
      ]
    },
    {
      "cell_type": "code",
      "source": [
        "%pwd"
      ],
      "metadata": {
        "colab": {
          "base_uri": "https://localhost:8080/",
          "height": 35
        },
        "id": "i9A5OHuqQq8V",
        "outputId": "6387a8d0-6e05-4f69-db14-e47c554e0356"
      },
      "execution_count": 75,
      "outputs": [
        {
          "output_type": "execute_result",
          "data": {
            "text/plain": [
              "'/content/sim_ch07/netpyne/netpyne'"
            ],
            "application/vnd.google.colaboratory.intrinsic+json": {
              "type": "string"
            }
          },
          "metadata": {},
          "execution_count": 75
        }
      ]
    },
    {
      "cell_type": "code",
      "source": [
        "!pip uninstall netpyne\n",
        "!pip install git+https://github.com/Neurosim-lab/netpyne.git@batch"
      ],
      "metadata": {
        "colab": {
          "base_uri": "https://localhost:8080/"
        },
        "collapsed": true,
        "id": "6BlI_0meQJad",
        "outputId": "5ee77bfa-1aab-4924-e1d1-783530035971"
      },
      "execution_count": null,
      "outputs": [
        {
          "output_type": "stream",
          "name": "stdout",
          "text": [
            "Found existing installation: netpyne 1.0.6\n",
            "Uninstalling netpyne-1.0.6:\n",
            "  Would remove:\n",
            "    /usr/local/lib/python3.10/dist-packages/netpyne.egg-link\n",
            "Proceed (Y/n)? "
          ]
        }
      ]
    },
    {
      "cell_type": "code",
      "source": [
        "import pandas as pd\n",
        "\n",
        "csv_path = '/content/V1_AllenBrainInstitute/cells/AllenBrainCellAtlas/bio_models_prop.csv'\n",
        "cell_data = pd.read_csv(csv_path)\n",
        "\n",
        "print(cell_data.head())\n"
      ],
      "metadata": {
        "id": "FUrHknfbSIYR"
      },
      "execution_count": null,
      "outputs": []
    },
    {
      "cell_type": "code",
      "source": [
        "# Print column names, file uses space delimiters\n",
        "print(cell_data.columns.tolist())"
      ],
      "metadata": {
        "id": "0LOA9KZISmXS"
      },
      "execution_count": null,
      "outputs": []
    },
    {
      "cell_type": "code",
      "source": [
        "cell_data = pd.read_csv(csv_path, delimiter='\\s+')\n",
        "\n",
        "print(cell_data.columns.tolist())"
      ],
      "metadata": {
        "id": "U9dyX-RIS86j"
      },
      "execution_count": null,
      "outputs": []
    },
    {
      "cell_type": "code",
      "source": [
        "print(cell_data.head())"
      ],
      "metadata": {
        "id": "yncIjFqgTL3g"
      },
      "execution_count": null,
      "outputs": []
    },
    {
      "cell_type": "code",
      "source": [
        "from netpyne import specs\n",
        "\n",
        "# Create NetPyNE's dictionary of cell parameters\n",
        "netParams = specs.NetParams()\n",
        "\n",
        "for index, row in cell_data.iterrows()::\n",
        "    cell_type = row['cre_line'] # use the parsed correct column name\n",
        "    model_id = row['model_id'] # Use the parsed column name.\n",
        "    morphology = row['morphology']\n",
        "\n",
        "    # Define the cell rule (need to add geom and mechs parameters as appropriate)\n",
        "    cell_rule = {\n",
        "        'conds': {'cellType': cell_type},\n",
        "        'secs': {\n",
        "            'soma': {\n",
        "                'geom': {},\n",
        "                'mechs': {}\n",
        "            }\n",
        "        }\n",
        "    }\n",
        "\n",
        "    # Add to NetPyNE's cell rules\n",
        "    netParams.cellParams[cell_type] = cell_rule\n",
        "\n",
        "# Example: defining the cell type distribution of a cortical column\n",
        "netParams.popParams['L2/3'] = {'cellType': 'Scnn1a', 'numCells': 100, 'yRange': [300, 600]}\n",
        "netParams.popParams['L4'] = {'cellType': 'Rorb', 'numCells': 100, 'yRange': [600, 800]}\n",
        "netParams.popParams['L5'] = {'cellType': 'Pvalb', 'numCells': 100, 'yRange': [800, 1000]}\n",
        "netParams.popParams['L6'] = {'cellType': 'Sst', 'numCells': 100, 'yRange': [1000, 1200]}\n"
      ],
      "metadata": {
        "id": "HZPpvwmeLq8w"
      },
      "execution_count": 13,
      "outputs": []
    },
    {
      "cell_type": "code",
      "source": [
        "%ls /content/V1_AllenBrainInstitute/src"
      ],
      "metadata": {
        "colab": {
          "base_uri": "https://localhost:8080/"
        },
        "id": "WjIsTQp1VBEV",
        "outputId": "dc759b71-3f5d-47b7-955b-fe8cad6b356f"
      },
      "execution_count": 14,
      "outputs": [
        {
          "output_type": "stream",
          "name": "stdout",
          "text": [
            "batch.py  cfg.py  init.py  netParams.py\n"
          ]
        }
      ]
    },
    {
      "cell_type": "code",
      "source": [
        "# View the contents of the netParams.py file\n",
        "with open('/content/V1_AllenBrainInstitute/src/netParams.py', 'r') as file:\n",
        "    netParams_content = file.read()\n",
        "\n",
        "print(netParams_content)"
      ],
      "metadata": {
        "collapsed": true,
        "id": "QPy2QnXPVDBN"
      },
      "execution_count": null,
      "outputs": []
    },
    {
      "cell_type": "markdown",
      "source": [
        "## The main function of the L1_pop function is to:\n",
        "\n",
        "# Determine the number of different neuron types in the L1 layer.\n",
        "#Load the corresponding neuron model file.\n",
        "# Configure these neurons as a population of cells and register them in the NetPyNE model."
      ],
      "metadata": {
        "id": "DfwdxC89ZkIR"
      }
    },
    {
      "cell_type": "markdown",
      "source": [
        "So the neuron population of L4 is:"
      ],
      "metadata": {
        "id": "Jt5FcpX4btwE"
      }
    },
    {
      "cell_type": "code",
      "source": [
        "def L4_pop(netParams, inh_cellNumbers={'Pvalb': 963, 'Sst': 553, 'Htr3a': 270}, exc_cellNumbers={'E': 10254},\n",
        "           model='Peri', layer='VisL4'):\n",
        "    layerBoundaries = layers_geometry()\n",
        "\n",
        "    for cellType, cellNumber in inh_cellNumbers.items():\n",
        "        cellFiles = glob.glob('../cells/NetPyNE_cells/%s/%s%s*_%s_cellParams.pkl' % (layer, layer, cellType, model))\n",
        "        k = 0\n",
        "        for neuronModel in cellFiles:\n",
        "            label = layer + cellType\n",
        "            netParams.loadCellParamsRule(label=label + '_' + str(k), fileName=neuronModel)\n",
        "            netParams.renameCellParamsSec(label=label + '_' + str(k), oldSec='soma_0', newSec='soma')\n",
        "            k += 1\n",
        "        netParams.popParams[label] = {\n",
        "            'cellModel': model, 'cellType': label, 'numCells': cellNumber,\n",
        "            'diversity': True, 'ynormRange': layerBoundaries[layer]}\n",
        "\n",
        "    for cellType, cellNumber in exc_cellNumbers.items():\n",
        "        cellFiles = glob.glob('../cells/NetPyNE_cells/%s/%s%s*_%s_cellParams.pkl' % (layer, layer, cellType, model))\n",
        "        k = 0\n",
        "        for neuronModel in cellFiles:\n",
        "            label = layer + cellType\n",
        "            netParams.loadCellParamsRule(label=label + '_' + str(k), fileName=neuronModel)\n",
        "            netParams.renameCellParamsSec(label=label + '_' + str(k), oldSec='soma_0', newSec='soma')\n",
        "            k += 1\n",
        "        netParams.popParams[label] = {\n",
        "            'cellModel': model, 'cellType': label, 'numCells': cellNumber,\n",
        "            'diversity': True, 'ynormRange': layerBoundaries[layer]}\n"
      ],
      "metadata": {
        "id": "Qa_5pEAoVP8N"
      },
      "execution_count": null,
      "outputs": []
    },
    {
      "cell_type": "markdown",
      "source": [
        "The LGN_pop function defines the inputs from the lateral geniculate body (LGN) that affect the layers of the cerebral cortex.The LGN_stimuli and LGN_inputs functions define how these LGN inputs are connected to the target neuron population."
      ],
      "metadata": {
        "id": "Dye7a5dmmRRi"
      }
    },
    {
      "cell_type": "markdown",
      "source": [
        "Use the LGN model to create the inputs to the NetPyNE model, extract the pulse timings (spike times) from Allen Brain's LGN model, and import these timing data into the NetPyNE model. This data can be imported via the SONATA file format."
      ],
      "metadata": {
        "id": "NZ6aUv3HnI7U"
      }
    },
    {
      "cell_type": "markdown",
      "source": [
        "#Creating LGN models and generating spike timings using FilterNet"
      ],
      "metadata": {
        "id": "-Q2pwa8PnZ8g"
      }
    },
    {
      "cell_type": "markdown",
      "source": [
        "#BMTK was used to generate LGN spike timing data and save it in SONATA format.\n",
        "#NetPyNE is used to import these spike timings and create connections to cortical neurons for eventual simulation in NetPyNE.\n",
        "#This process integrates visual stimulus-based LGN inputs into the NetPyNE model and simulates the effect of LGN inputs on cortical neuron activity."
      ],
      "metadata": {
        "id": "OlNzXMlwrWHe"
      }
    },
    {
      "cell_type": "code",
      "source": [
        "!pip install bmtk"
      ],
      "metadata": {
        "colab": {
          "base_uri": "https://localhost:8080/"
        },
        "collapsed": true,
        "id": "ENNEygoamR8c",
        "outputId": "e68385b2-9222-479b-af1a-9f86d83b7062"
      },
      "execution_count": 41,
      "outputs": [
        {
          "output_type": "stream",
          "name": "stdout",
          "text": [
            "Requirement already satisfied: bmtk in /usr/local/lib/python3.10/dist-packages (1.1.1)\n",
            "Requirement already satisfied: jsonschema in /usr/local/lib/python3.10/dist-packages (from bmtk) (4.23.0)\n",
            "Requirement already satisfied: pandas in /usr/local/lib/python3.10/dist-packages (from bmtk) (1.5.3)\n",
            "Requirement already satisfied: numpy in /usr/local/lib/python3.10/dist-packages (from bmtk) (1.23.5)\n",
            "Requirement already satisfied: six in /usr/local/lib/python3.10/dist-packages (from bmtk) (1.16.0)\n",
            "Requirement already satisfied: h5py in /usr/local/lib/python3.10/dist-packages (from bmtk) (3.11.0)\n",
            "Requirement already satisfied: matplotlib in /usr/local/lib/python3.10/dist-packages (from bmtk) (3.7.1)\n",
            "Requirement already satisfied: scipy in /usr/local/lib/python3.10/dist-packages (from bmtk) (1.10.1)\n",
            "Requirement already satisfied: scikit-image in /usr/local/lib/python3.10/dist-packages (from bmtk) (0.23.2)\n",
            "Requirement already satisfied: sympy in /usr/local/lib/python3.10/dist-packages (from bmtk) (1.13.2)\n",
            "Requirement already satisfied: pynrrd in /usr/local/lib/python3.10/dist-packages (from bmtk) (1.0.0)\n",
            "Requirement already satisfied: attrs>=22.2.0 in /usr/local/lib/python3.10/dist-packages (from jsonschema->bmtk) (24.2.0)\n",
            "Requirement already satisfied: jsonschema-specifications>=2023.03.6 in /usr/local/lib/python3.10/dist-packages (from jsonschema->bmtk) (2023.12.1)\n",
            "Requirement already satisfied: referencing>=0.28.4 in /usr/local/lib/python3.10/dist-packages (from jsonschema->bmtk) (0.35.1)\n",
            "Requirement already satisfied: rpds-py>=0.7.1 in /usr/local/lib/python3.10/dist-packages (from jsonschema->bmtk) (0.20.0)\n",
            "Requirement already satisfied: contourpy>=1.0.1 in /usr/local/lib/python3.10/dist-packages (from matplotlib->bmtk) (1.2.1)\n",
            "Requirement already satisfied: cycler>=0.10 in /usr/local/lib/python3.10/dist-packages (from matplotlib->bmtk) (0.12.1)\n",
            "Requirement already satisfied: fonttools>=4.22.0 in /usr/local/lib/python3.10/dist-packages (from matplotlib->bmtk) (4.53.1)\n",
            "Requirement already satisfied: kiwisolver>=1.0.1 in /usr/local/lib/python3.10/dist-packages (from matplotlib->bmtk) (1.4.5)\n",
            "Requirement already satisfied: packaging>=20.0 in /usr/local/lib/python3.10/dist-packages (from matplotlib->bmtk) (24.1)\n",
            "Requirement already satisfied: pillow>=6.2.0 in /usr/local/lib/python3.10/dist-packages (from matplotlib->bmtk) (9.4.0)\n",
            "Requirement already satisfied: pyparsing>=2.3.1 in /usr/local/lib/python3.10/dist-packages (from matplotlib->bmtk) (3.1.2)\n",
            "Requirement already satisfied: python-dateutil>=2.7 in /usr/local/lib/python3.10/dist-packages (from matplotlib->bmtk) (2.8.2)\n",
            "Requirement already satisfied: pytz>=2020.1 in /usr/local/lib/python3.10/dist-packages (from pandas->bmtk) (2024.1)\n",
            "Requirement already satisfied: nptyping in /usr/local/lib/python3.10/dist-packages (from pynrrd->bmtk) (2.5.0)\n",
            "Requirement already satisfied: typing-extensions in /usr/local/lib/python3.10/dist-packages (from pynrrd->bmtk) (4.12.2)\n",
            "Requirement already satisfied: networkx>=2.8 in /usr/local/lib/python3.10/dist-packages (from scikit-image->bmtk) (3.3)\n",
            "Requirement already satisfied: imageio>=2.33 in /usr/local/lib/python3.10/dist-packages (from scikit-image->bmtk) (2.34.2)\n",
            "Requirement already satisfied: tifffile>=2022.8.12 in /usr/local/lib/python3.10/dist-packages (from scikit-image->bmtk) (2024.8.10)\n",
            "Requirement already satisfied: lazy-loader>=0.4 in /usr/local/lib/python3.10/dist-packages (from scikit-image->bmtk) (0.4)\n",
            "Requirement already satisfied: mpmath<1.4,>=1.1.0 in /usr/local/lib/python3.10/dist-packages (from sympy->bmtk) (1.3.0)\n"
          ]
        }
      ]
    },
    {
      "cell_type": "code",
      "source": [
        "%cd sim_ch07/"
      ],
      "metadata": {
        "colab": {
          "base_uri": "https://localhost:8080/"
        },
        "id": "finwNCf0om_4",
        "outputId": "588b9b2e-4168-4a94-fa92-d87df90cfeeb"
      },
      "execution_count": 23,
      "outputs": [
        {
          "output_type": "stream",
          "name": "stdout",
          "text": [
            "/content/sim_ch07\n"
          ]
        }
      ]
    },
    {
      "cell_type": "markdown",
      "source": [
        "Creating an LGN Network.\n",
        "\n",
        "Create a simple LGN network using the provided sample code. Adjust the parameters of add_nodes to set the number and properties of ON and OFF cells"
      ],
      "metadata": {
        "id": "kA519fWjoZ3d"
      }
    },
    {
      "cell_type": "code",
      "source": [
        "!rm -rf /content/sim_ch07/sim_ch07/config.json\n",
        "!rm -rf /content/sim_ch07/sim_ch07/circuit_config.json\n",
        "!rm -rf /content/sim_ch07/sim_ch07/simulation_config.json"
      ],
      "metadata": {
        "id": "uVpT6bUgpiYx"
      },
      "execution_count": 42,
      "outputs": []
    },
    {
      "cell_type": "code",
      "source": [
        "import numpy as np\n",
        "from bmtk.builder import NetworkBuilder\n",
        "\n",
        "net = NetworkBuilder('lgn')\n",
        "\n",
        "# OFF\n",
        "net.add_nodes(\n",
        "    N=20,\n",
        "    model_type='virtual',\n",
        "    model_template='lgnmodel:tOFF_TF15',\n",
        "    x=np.random.uniform(0.0, 240.0, 20),\n",
        "    y=np.random.uniform(0.0, 120.0, 20),\n",
        "    spatial_size=1.0,\n",
        "    dynamics_params='tOFF_TF15.json'\n",
        ")\n",
        "\n",
        "# ON\n",
        "net.add_nodes(\n",
        "    N=20,\n",
        "    model_type='virtual',\n",
        "    model_template='lgnmodel:tON',\n",
        "    x=np.random.uniform(0.0, 240.0, 20),\n",
        "    y=np.random.uniform(0.0, 120.0, 20),\n",
        "    spatial_size=1.0,\n",
        "    dynamics_params='tON_TF8.json'\n",
        ")\n",
        "\n",
        "#\n",
        "net.build()\n",
        "net.save_nodes(output_dir='sim_ch07/network')\n"
      ],
      "metadata": {
        "id": "3stOzSxVnfkO"
      },
      "execution_count": 43,
      "outputs": []
    },
    {
      "cell_type": "markdown",
      "source": [
        "Setting up the simulation environment.\n",
        "\n",
        "To configure the simulation environment, use the build_env_filternet function to generate a simulation profile and specify the visual stimuli you want to use, such as a movie or flash:"
      ],
      "metadata": {
        "id": "CU6lk7nEoddu"
      }
    },
    {
      "cell_type": "code",
      "source": [
        "from bmtk.utils.sim_setup import build_env_filternet\n",
        "\n",
        "build_env_filternet(\n",
        "    base_dir='sim_ch07',\n",
        "    network_dir='sim_ch07/network',\n",
        "    tstop=3000.0,\n",
        "    include_examples=True\n",
        ")\n"
      ],
      "metadata": {
        "id": "XDAXWpProDpo"
      },
      "execution_count": 44,
      "outputs": []
    },
    {
      "cell_type": "markdown",
      "source": [
        "Edit simulation_config.json.\n",
        "\n",
        "In the generated simulation_config.json file, add an input section to define your visual stimuli. Here is an example, using a full screen flash:"
      ],
      "metadata": {
        "id": "35X9dtz9of3v"
      }
    },
    {
      "cell_type": "code",
      "source": [
        "{\n",
        "    \"inputs\": {\n",
        "        \"full_field_flash\": {\n",
        "            \"input_type\": \"movie\",\n",
        "            \"module\": \"full_field_flash\",\n",
        "            \"row_size\": 120,\n",
        "            \"col_size\": 240,\n",
        "            \"t_on\": 1000.0,\n",
        "            \"t_off\": 2000.0,\n",
        "            \"max_intensity\": 20.0,\n",
        "            \"frame_rate\": 1000.0\n",
        "        }\n",
        "    }\n",
        "}\n"
      ],
      "metadata": {
        "colab": {
          "base_uri": "https://localhost:8080/"
        },
        "id": "MJFCPQb5oFN_",
        "outputId": "94cda719-0e87-4659-bd54-523caf021d59"
      },
      "execution_count": 45,
      "outputs": [
        {
          "output_type": "execute_result",
          "data": {
            "text/plain": [
              "{'inputs': {'full_field_flash': {'input_type': 'movie',\n",
              "   'module': 'full_field_flash',\n",
              "   'row_size': 120,\n",
              "   'col_size': 240,\n",
              "   't_on': 1000.0,\n",
              "   't_off': 2000.0,\n",
              "   'max_intensity': 20.0,\n",
              "   'frame_rate': 1000.0}}}"
            ]
          },
          "metadata": {},
          "execution_count": 45
        }
      ]
    },
    {
      "cell_type": "markdown",
      "source": [
        "Generate pulse timing data (usually saved in spikes.h5 file)"
      ],
      "metadata": {
        "id": "KU2CzWtmoiy4"
      }
    },
    {
      "cell_type": "code",
      "source": [
        "!python run_filternet.py simulation_config.json"
      ],
      "metadata": {
        "colab": {
          "base_uri": "https://localhost:8080/"
        },
        "id": "L4E3vTzYoGmd",
        "outputId": "880f0f46-4437-4b51-be33-3afc63dc0525"
      },
      "execution_count": 46,
      "outputs": [
        {
          "output_type": "stream",
          "name": "stdout",
          "text": [
            "2024-08-26 17:14:54,914 [WARNING] Directory /content/sim_ch07/output already exists.\n",
            "2024-08-26 17:14:54,915 [INFO] Created log file\n",
            "2024-08-26 17:14:54,915 [ERROR] Could not find any network files. Unable to build network.\n",
            "Traceback (most recent call last):\n",
            "  File \"/content/sim_ch07/run_filternet.py\", line 20, in <module>\n",
            "    run(sys.argv[-1])\n",
            "  File \"/content/sim_ch07/run_filternet.py\", line 13, in run\n",
            "    net = filternet.FilterNetwork.from_config(config)\n",
            "  File \"/usr/local/lib/python3.10/dist-packages/bmtk/simulator/core/simulator_network.py\", line 228, in from_config\n",
            "    network.io.log_exception('Could not find any network files. Unable to build network.')\n",
            "  File \"/usr/local/lib/python3.10/dist-packages/bmtk/simulator/core/io_tools.py\", line 126, in log_exception\n",
            "    raise Exception(message)\n",
            "Exception: Could not find any network files. Unable to build network.\n"
          ]
        }
      ]
    },
    {
      "cell_type": "markdown",
      "source": [
        "Importing SONATA files.\n",
        "\n",
        "Use NetPyNE's import tool to import the pulse timing data from the generated SONATA file into the NetPyNE model:"
      ],
      "metadata": {
        "id": "q7zM6HNfq_0a"
      }
    },
    {
      "cell_type": "code",
      "source": [
        "from netpyne import specs, sim\n",
        "from netpyne.conversion import sonataImport\n",
        "\n",
        "netParams = specs.NetParams()\n",
        "cfg = specs.SimConfig()\n",
        "\n",
        "# Importing the generated LGN pulse timing file in SONATA format\n",
        "sonataImport.importNetParams(netParams, 'sim_ch07/network')\n",
        "sonataImport.importSimData(cfg, 'sim_ch07/output/spikes.h5')\n",
        "\n",
        "# Create and run a simulation\n",
        "sim.createSimulateAnalyze(netParams=netParams, simConfig=cfg)"
      ],
      "metadata": {
        "id": "cPLHQq45oMrL"
      },
      "execution_count": null,
      "outputs": []
    },
    {
      "cell_type": "markdown",
      "source": [
        "Random connections were created between imported LGN neurons and cortical neurons using NetPyNE's API."
      ],
      "metadata": {
        "id": "9xb7GTu7rHnM"
      }
    },
    {
      "cell_type": "code",
      "source": [
        "def create_random_connections(netParams, source='LGN', target='VisL2_3E', prob=0.1, weight=0.01, delay=2):\n",
        "    netParams.connParams['LGN->VisL2_3E'] = {\n",
        "        'preConds': {'pop': source},\n",
        "        'postConds': {'pop': target},\n",
        "        'probability': prob,\n",
        "        'weight': weight,\n",
        "        'delay': delay,\n",
        "        'synMech': 'AMPA'\n",
        "    }\n",
        "\n",
        "create_random_connections(netParams, source='LGN', target='VisL2_3E')"
      ],
      "metadata": {
        "id": "G-j7oB_trIA9"
      },
      "execution_count": null,
      "outputs": []
    }
  ]
}